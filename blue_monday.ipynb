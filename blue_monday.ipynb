{
 "cells": [
  {
   "cell_type": "code",
   "execution_count": 25,
   "id": "f8181f89-9fd0-47ae-adcf-f1eb9b087dfe",
   "metadata": {
    "tags": []
   },
   "outputs": [],
   "source": [
    "import numpy as np\n",
    "import pandas as pd\n",
    "import matplotlib.pyplot as plt\n",
    "\n",
    "from openbb_terminal.sdk import openbb"
   ]
  },
  {
   "cell_type": "markdown",
   "id": "61b661b7-bf6d-4192-967b-00a27a0e9bd5",
   "metadata": {},
   "source": [
    "## Get daily price data"
   ]
  },
  {
   "cell_type": "code",
   "execution_count": 26,
   "id": "b47dabb5-0976-40ff-b7c3-00505db77566",
   "metadata": {
    "tags": []
   },
   "outputs": [
    {
     "data": {
      "text/html": [
       "<pre style=\"white-space:pre;overflow-x:auto;line-height:normal;font-family:Menlo,'DejaVu Sans Mono',consolas,'Courier New',monospace\">Loading Daily data for SPY with starting period 2021-12-28.\n",
       "</pre>\n"
      ],
      "text/plain": [
       "Loading Daily data for SPY with starting period 2021-12-28.\n"
      ]
     },
     "metadata": {},
     "output_type": "display_data"
    }
   ],
   "source": [
    "spy = openbb.stocks.load(\n",
    "    \"SPY\", \n",
    "    start_date=\"2021-12-28\", \n",
    "    end_date=\"2023-11-24\"\n",
    ")"
   ]
  },
  {
   "cell_type": "markdown",
   "id": "7c38708b-8f23-4532-ae02-4eb52c105a66",
   "metadata": {
    "tags": []
   },
   "source": [
    "### Add calculated series: 1-day log return, 4-day forward log return, and day of week"
   ]
  },
  {
   "cell_type": "code",
   "execution_count": 27,
   "id": "7ba3fb4d-0444-41b5-9d4a-9f0e1e2a23b8",
   "metadata": {
    "tags": []
   },
   "outputs": [],
   "source": [
    "# compute log returns\n",
    "spy[\"log_return\"] = spy['Adj Close'].apply(np.log).diff(1)\n",
    "# Compute the returns looking forward 4 trading days\n",
    "spy[\"forward_return\"] = - spy[\"Adj Close\"].apply(np.log).diff(-4)"
   ]
  },
  {
   "cell_type": "code",
   "execution_count": 28,
   "id": "f9a620cb-cba2-42a7-9b26-4f68f9d2fc1c",
   "metadata": {
    "tags": []
   },
   "outputs": [],
   "source": [
    "# add a column with the day of the week\n",
    "spy[\"day_of_week\"] = spy.index.dayofweek"
   ]
  },
  {
   "cell_type": "markdown",
   "id": "6b8d69f5-27b5-4116-8304-351b53767de8",
   "metadata": {
    "tags": []
   },
   "source": [
    "### Apply strategy: Select Mondays on which SPY went down"
   ]
  },
  {
   "cell_type": "code",
   "execution_count": 30,
   "id": "6a58682d-ff40-422d-8ff8-3af428844ccf",
   "metadata": {
    "tags": []
   },
   "outputs": [],
   "source": [
    "# Select the Mondays on which SPY went down\n",
    "result_set = spy.loc[(spy[\"day_of_week\"]) == 0 & (spy[\"log_return\"] < 0)].dropna()"
   ]
  },
  {
   "cell_type": "markdown",
   "id": "6f37f03f-da83-4c8e-885c-a7faa041d740",
   "metadata": {
    "tags": []
   },
   "source": [
    "## Check results"
   ]
  },
  {
   "cell_type": "code",
   "execution_count": 35,
   "id": "c6d89c87-a445-4f53-8743-23790617ef46",
   "metadata": {
    "tags": []
   },
   "outputs": [
    {
     "data": {
      "text/plain": [
       "count    85.000000\n",
       "mean     -0.001081\n",
       "std       0.024189\n",
       "min      -0.059724\n",
       "25%      -0.015917\n",
       "50%      -0.001829\n",
       "75%       0.013492\n",
       "max       0.067010\n",
       "Name: forward_return, dtype: float64"
      ]
     },
     "execution_count": 35,
     "metadata": {},
     "output_type": "execute_result"
    }
   ],
   "source": [
    "result_set[\"forward_return\"].describe()"
   ]
  },
  {
   "cell_type": "code",
   "execution_count": 36,
   "id": "1ec85992-5b9f-4452-aca1-9bf445bca336",
   "metadata": {
    "tags": []
   },
   "outputs": [
    {
     "data": {
      "text/plain": [
       "0.9989192383535077"
      ]
     },
     "execution_count": 36,
     "metadata": {},
     "output_type": "execute_result"
    }
   ],
   "source": [
    "np.exp(result_set[\"forward_return\"].mean())"
   ]
  },
  {
   "cell_type": "markdown",
   "id": "44a2d412-b8b1-4eae-951f-79d128098306",
   "metadata": {
    "tags": []
   },
   "source": [
    "### Compare with population mean"
   ]
  },
  {
   "cell_type": "code",
   "execution_count": 14,
   "id": "06cd4317-f85f-48fc-9176-51df8c73b8c1",
   "metadata": {
    "tags": []
   },
   "outputs": [
    {
     "data": {
      "text/plain": [
       "count    477.000000\n",
       "mean      -0.000167\n",
       "std        0.024598\n",
       "min       -0.103134\n",
       "25%       -0.014115\n",
       "50%        0.001619\n",
       "75%        0.015752\n",
       "max        0.067011\n",
       "Name: forward_return, dtype: float64"
      ]
     },
     "execution_count": 14,
     "metadata": {},
     "output_type": "execute_result"
    }
   ],
   "source": [
    "spy[\"forward_return\"].describe()"
   ]
  },
  {
   "cell_type": "code",
   "execution_count": 37,
   "id": "654920c7-7ddb-4936-98ec-4aeb85e8155f",
   "metadata": {},
   "outputs": [
    {
     "data": {
      "text/plain": [
       "0.999832780566953"
      ]
     },
     "execution_count": 37,
     "metadata": {},
     "output_type": "execute_result"
    }
   ],
   "source": [
    "np.exp(spy[\"forward_return\"].mean())"
   ]
  },
  {
   "cell_type": "code",
   "execution_count": null,
   "id": "4d455aa8-90af-4915-b143-2101669657f5",
   "metadata": {},
   "outputs": [],
   "source": []
  }
 ],
 "metadata": {
  "kernelspec": {
   "display_name": "Python 3 (ipykernel)",
   "language": "python",
   "name": "python3"
  },
  "language_info": {
   "codemirror_mode": {
    "name": "ipython",
    "version": 3
   },
   "file_extension": ".py",
   "mimetype": "text/x-python",
   "name": "python",
   "nbconvert_exporter": "python",
   "pygments_lexer": "ipython3",
   "version": "3.9.18"
  }
 },
 "nbformat": 4,
 "nbformat_minor": 5
}
