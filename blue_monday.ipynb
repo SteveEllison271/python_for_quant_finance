{
 "cells": [
  {
   "cell_type": "code",
   "execution_count": 1,
   "id": "f8181f89-9fd0-47ae-adcf-f1eb9b087dfe",
   "metadata": {
    "tags": []
   },
   "outputs": [],
   "source": [
    "import numpy as np\n",
    "import pandas as pd\n",
    "import matplotlib.pyplot as plt\n",
    "\n",
    "from openbb import obb\n",
    "obb.user.preferences.output_type = \"dataframe\""
   ]
  },
  {
   "cell_type": "markdown",
   "id": "78598450-d28e-43b9-b421-a97087a7dce8",
   "metadata": {},
   "source": [
    "# Strategy: Buy SPY at end of day Monday when Monday has been a down day.\n",
    "# Hold for 1 day or 4 days."
   ]
  },
  {
   "cell_type": "markdown",
   "id": "61b661b7-bf6d-4192-967b-00a27a0e9bd5",
   "metadata": {},
   "source": [
    "## Get daily price data"
   ]
  },
  {
   "cell_type": "code",
   "execution_count": 2,
   "id": "0af4ffda-1d9e-4a0f-8a8e-ecaa6e89fd9f",
   "metadata": {},
   "outputs": [],
   "source": [
    "# Set the start date to 2 years ago\n",
    "today = pd.Timestamp.today().strftime(\"%Y-%m-%d\")\n",
    "start_date = (pd.Timestamp.today() - pd.Timedelta(days=365*2)).strftime(\"%Y-%m-%d\")"
   ]
  },
  {
   "cell_type": "code",
   "execution_count": 3,
   "id": "b47dabb5-0976-40ff-b7c3-00505db77566",
   "metadata": {
    "tags": []
   },
   "outputs": [],
   "source": [
    "spy = obb.equity.price.historical(\n",
    "    \"SPY\",\n",
    "    start_date = start_date,\n",
    "    end_date = today,\n",
    "    provider=\"yfinance\"\n",
    ")"
   ]
  },
  {
   "cell_type": "code",
   "execution_count": 4,
   "id": "1ad69684-1c50-47f1-96f3-16b38dde784f",
   "metadata": {},
   "outputs": [],
   "source": [
    "spy.index = pd.to_datetime(spy.index).tz_localize(\"US/Eastern\")"
   ]
  },
  {
   "cell_type": "markdown",
   "id": "7c38708b-8f23-4532-ae02-4eb52c105a66",
   "metadata": {
    "tags": []
   },
   "source": [
    "### Add calculated series: 1-day log return, 4-day forward log return, and day of week"
   ]
  },
  {
   "cell_type": "code",
   "execution_count": 5,
   "id": "7ba3fb4d-0444-41b5-9d4a-9f0e1e2a23b8",
   "metadata": {
    "tags": []
   },
   "outputs": [],
   "source": [
    "# compute log returns\n",
    "spy[\"log_return\"] = spy['close'].apply(np.log).diff(1)\n",
    "# Compute the returns looking forward 4 trading days\n",
    "spy[\"forward_return\"] = - spy[\"close\"].apply(np.log).diff(-4)"
   ]
  },
  {
   "cell_type": "code",
   "execution_count": 6,
   "id": "aaa059fd-2361-4cbc-953a-2569d728ffc5",
   "metadata": {},
   "outputs": [
    {
     "data": {
      "text/html": [
       "<div>\n",
       "<style scoped>\n",
       "    .dataframe tbody tr th:only-of-type {\n",
       "        vertical-align: middle;\n",
       "    }\n",
       "\n",
       "    .dataframe tbody tr th {\n",
       "        vertical-align: top;\n",
       "    }\n",
       "\n",
       "    .dataframe thead th {\n",
       "        text-align: right;\n",
       "    }\n",
       "</style>\n",
       "<table border=\"1\" class=\"dataframe\">\n",
       "  <thead>\n",
       "    <tr style=\"text-align: right;\">\n",
       "      <th></th>\n",
       "      <th>open</th>\n",
       "      <th>high</th>\n",
       "      <th>low</th>\n",
       "      <th>close</th>\n",
       "      <th>volume</th>\n",
       "      <th>split_ratio</th>\n",
       "      <th>dividend</th>\n",
       "      <th>capital_gains</th>\n",
       "      <th>log_return</th>\n",
       "      <th>forward_return</th>\n",
       "    </tr>\n",
       "    <tr>\n",
       "      <th>date</th>\n",
       "      <th></th>\n",
       "      <th></th>\n",
       "      <th></th>\n",
       "      <th></th>\n",
       "      <th></th>\n",
       "      <th></th>\n",
       "      <th></th>\n",
       "      <th></th>\n",
       "      <th></th>\n",
       "      <th></th>\n",
       "    </tr>\n",
       "  </thead>\n",
       "  <tbody>\n",
       "    <tr>\n",
       "      <th>2022-10-10 00:00:00-04:00</th>\n",
       "      <td>363.959991</td>\n",
       "      <td>364.209991</td>\n",
       "      <td>357.670013</td>\n",
       "      <td>360.019989</td>\n",
       "      <td>76042800</td>\n",
       "      <td>0.0</td>\n",
       "      <td>0.0</td>\n",
       "      <td>0.0</td>\n",
       "      <td>NaN</td>\n",
       "      <td>-0.006661</td>\n",
       "    </tr>\n",
       "    <tr>\n",
       "      <th>2022-10-11 00:00:00-04:00</th>\n",
       "      <td>358.239990</td>\n",
       "      <td>363.029999</td>\n",
       "      <td>355.709991</td>\n",
       "      <td>357.739990</td>\n",
       "      <td>92482800</td>\n",
       "      <td>0.0</td>\n",
       "      <td>0.0</td>\n",
       "      <td>0.0</td>\n",
       "      <td>-0.006353</td>\n",
       "      <td>0.025065</td>\n",
       "    </tr>\n",
       "    <tr>\n",
       "      <th>2022-10-12 00:00:00-04:00</th>\n",
       "      <td>358.170013</td>\n",
       "      <td>359.820007</td>\n",
       "      <td>356.299988</td>\n",
       "      <td>356.559998</td>\n",
       "      <td>76991800</td>\n",
       "      <td>0.0</td>\n",
       "      <td>0.0</td>\n",
       "      <td>0.0</td>\n",
       "      <td>-0.003304</td>\n",
       "      <td>0.040050</td>\n",
       "    </tr>\n",
       "    <tr>\n",
       "      <th>2022-10-13 00:00:00-04:00</th>\n",
       "      <td>349.209991</td>\n",
       "      <td>367.510010</td>\n",
       "      <td>348.109985</td>\n",
       "      <td>365.970001</td>\n",
       "      <td>147254500</td>\n",
       "      <td>0.0</td>\n",
       "      <td>0.0</td>\n",
       "      <td>0.0</td>\n",
       "      <td>0.026049</td>\n",
       "      <td>0.006889</td>\n",
       "    </tr>\n",
       "    <tr>\n",
       "      <th>2022-10-14 00:00:00-04:00</th>\n",
       "      <td>368.549988</td>\n",
       "      <td>370.260010</td>\n",
       "      <td>356.959991</td>\n",
       "      <td>357.630005</td>\n",
       "      <td>123737000</td>\n",
       "      <td>0.0</td>\n",
       "      <td>0.0</td>\n",
       "      <td>0.0</td>\n",
       "      <td>-0.023052</td>\n",
       "      <td>0.021521</td>\n",
       "    </tr>\n",
       "    <tr>\n",
       "      <th>...</th>\n",
       "      <td>...</td>\n",
       "      <td>...</td>\n",
       "      <td>...</td>\n",
       "      <td>...</td>\n",
       "      <td>...</td>\n",
       "      <td>...</td>\n",
       "      <td>...</td>\n",
       "      <td>...</td>\n",
       "      <td>...</td>\n",
       "      <td>...</td>\n",
       "    </tr>\n",
       "    <tr>\n",
       "      <th>2024-10-02 00:00:00-04:00</th>\n",
       "      <td>567.710022</td>\n",
       "      <td>569.900024</td>\n",
       "      <td>565.270020</td>\n",
       "      <td>568.859985</td>\n",
       "      <td>38097800</td>\n",
       "      <td>0.0</td>\n",
       "      <td>0.0</td>\n",
       "      <td>0.0</td>\n",
       "      <td>0.000422</td>\n",
       "      <td>0.007548</td>\n",
       "    </tr>\n",
       "    <tr>\n",
       "      <th>2024-10-03 00:00:00-04:00</th>\n",
       "      <td>567.359985</td>\n",
       "      <td>569.799988</td>\n",
       "      <td>565.489990</td>\n",
       "      <td>567.820007</td>\n",
       "      <td>40846500</td>\n",
       "      <td>0.0</td>\n",
       "      <td>0.0</td>\n",
       "      <td>0.0</td>\n",
       "      <td>-0.001830</td>\n",
       "      <td>NaN</td>\n",
       "    </tr>\n",
       "    <tr>\n",
       "      <th>2024-10-04 00:00:00-04:00</th>\n",
       "      <td>572.349976</td>\n",
       "      <td>573.359985</td>\n",
       "      <td>568.099976</td>\n",
       "      <td>572.979980</td>\n",
       "      <td>42939100</td>\n",
       "      <td>0.0</td>\n",
       "      <td>0.0</td>\n",
       "      <td>0.0</td>\n",
       "      <td>0.009046</td>\n",
       "      <td>NaN</td>\n",
       "    </tr>\n",
       "    <tr>\n",
       "      <th>2024-10-07 00:00:00-04:00</th>\n",
       "      <td>571.299988</td>\n",
       "      <td>571.960022</td>\n",
       "      <td>566.630005</td>\n",
       "      <td>567.799988</td>\n",
       "      <td>49964700</td>\n",
       "      <td>0.0</td>\n",
       "      <td>0.0</td>\n",
       "      <td>0.0</td>\n",
       "      <td>-0.009082</td>\n",
       "      <td>NaN</td>\n",
       "    </tr>\n",
       "    <tr>\n",
       "      <th>2024-10-08 00:00:00-04:00</th>\n",
       "      <td>570.419983</td>\n",
       "      <td>573.780029</td>\n",
       "      <td>569.530029</td>\n",
       "      <td>573.169983</td>\n",
       "      <td>37318600</td>\n",
       "      <td>0.0</td>\n",
       "      <td>0.0</td>\n",
       "      <td>0.0</td>\n",
       "      <td>0.009413</td>\n",
       "      <td>NaN</td>\n",
       "    </tr>\n",
       "  </tbody>\n",
       "</table>\n",
       "<p>502 rows × 10 columns</p>\n",
       "</div>"
      ],
      "text/plain": [
       "                                 open        high         low       close  \\\n",
       "date                                                                        \n",
       "2022-10-10 00:00:00-04:00  363.959991  364.209991  357.670013  360.019989   \n",
       "2022-10-11 00:00:00-04:00  358.239990  363.029999  355.709991  357.739990   \n",
       "2022-10-12 00:00:00-04:00  358.170013  359.820007  356.299988  356.559998   \n",
       "2022-10-13 00:00:00-04:00  349.209991  367.510010  348.109985  365.970001   \n",
       "2022-10-14 00:00:00-04:00  368.549988  370.260010  356.959991  357.630005   \n",
       "...                               ...         ...         ...         ...   \n",
       "2024-10-02 00:00:00-04:00  567.710022  569.900024  565.270020  568.859985   \n",
       "2024-10-03 00:00:00-04:00  567.359985  569.799988  565.489990  567.820007   \n",
       "2024-10-04 00:00:00-04:00  572.349976  573.359985  568.099976  572.979980   \n",
       "2024-10-07 00:00:00-04:00  571.299988  571.960022  566.630005  567.799988   \n",
       "2024-10-08 00:00:00-04:00  570.419983  573.780029  569.530029  573.169983   \n",
       "\n",
       "                              volume  split_ratio  dividend  capital_gains  \\\n",
       "date                                                                         \n",
       "2022-10-10 00:00:00-04:00   76042800          0.0       0.0            0.0   \n",
       "2022-10-11 00:00:00-04:00   92482800          0.0       0.0            0.0   \n",
       "2022-10-12 00:00:00-04:00   76991800          0.0       0.0            0.0   \n",
       "2022-10-13 00:00:00-04:00  147254500          0.0       0.0            0.0   \n",
       "2022-10-14 00:00:00-04:00  123737000          0.0       0.0            0.0   \n",
       "...                              ...          ...       ...            ...   \n",
       "2024-10-02 00:00:00-04:00   38097800          0.0       0.0            0.0   \n",
       "2024-10-03 00:00:00-04:00   40846500          0.0       0.0            0.0   \n",
       "2024-10-04 00:00:00-04:00   42939100          0.0       0.0            0.0   \n",
       "2024-10-07 00:00:00-04:00   49964700          0.0       0.0            0.0   \n",
       "2024-10-08 00:00:00-04:00   37318600          0.0       0.0            0.0   \n",
       "\n",
       "                           log_return  forward_return  \n",
       "date                                                   \n",
       "2022-10-10 00:00:00-04:00         NaN       -0.006661  \n",
       "2022-10-11 00:00:00-04:00   -0.006353        0.025065  \n",
       "2022-10-12 00:00:00-04:00   -0.003304        0.040050  \n",
       "2022-10-13 00:00:00-04:00    0.026049        0.006889  \n",
       "2022-10-14 00:00:00-04:00   -0.023052        0.021521  \n",
       "...                               ...             ...  \n",
       "2024-10-02 00:00:00-04:00    0.000422        0.007548  \n",
       "2024-10-03 00:00:00-04:00   -0.001830             NaN  \n",
       "2024-10-04 00:00:00-04:00    0.009046             NaN  \n",
       "2024-10-07 00:00:00-04:00   -0.009082             NaN  \n",
       "2024-10-08 00:00:00-04:00    0.009413             NaN  \n",
       "\n",
       "[502 rows x 10 columns]"
      ]
     },
     "execution_count": 6,
     "metadata": {},
     "output_type": "execute_result"
    }
   ],
   "source": [
    "spy"
   ]
  },
  {
   "cell_type": "code",
   "execution_count": 7,
   "id": "f9a620cb-cba2-42a7-9b26-4f68f9d2fc1c",
   "metadata": {
    "tags": []
   },
   "outputs": [],
   "source": [
    "# add a column with the day of the week\n",
    "spy[\"day_of_week\"] = spy.index.dayofweek"
   ]
  },
  {
   "cell_type": "code",
   "execution_count": 8,
   "id": "d77dc7fe-868d-48fc-b3b5-3b86f05b8035",
   "metadata": {},
   "outputs": [
    {
     "data": {
      "text/html": [
       "<div>\n",
       "<style scoped>\n",
       "    .dataframe tbody tr th:only-of-type {\n",
       "        vertical-align: middle;\n",
       "    }\n",
       "\n",
       "    .dataframe tbody tr th {\n",
       "        vertical-align: top;\n",
       "    }\n",
       "\n",
       "    .dataframe thead th {\n",
       "        text-align: right;\n",
       "    }\n",
       "</style>\n",
       "<table border=\"1\" class=\"dataframe\">\n",
       "  <thead>\n",
       "    <tr style=\"text-align: right;\">\n",
       "      <th></th>\n",
       "      <th>open</th>\n",
       "      <th>high</th>\n",
       "      <th>low</th>\n",
       "      <th>close</th>\n",
       "      <th>volume</th>\n",
       "      <th>split_ratio</th>\n",
       "      <th>dividend</th>\n",
       "      <th>capital_gains</th>\n",
       "      <th>log_return</th>\n",
       "      <th>forward_return</th>\n",
       "      <th>day_of_week</th>\n",
       "    </tr>\n",
       "    <tr>\n",
       "      <th>date</th>\n",
       "      <th></th>\n",
       "      <th></th>\n",
       "      <th></th>\n",
       "      <th></th>\n",
       "      <th></th>\n",
       "      <th></th>\n",
       "      <th></th>\n",
       "      <th></th>\n",
       "      <th></th>\n",
       "      <th></th>\n",
       "      <th></th>\n",
       "    </tr>\n",
       "  </thead>\n",
       "  <tbody>\n",
       "    <tr>\n",
       "      <th>2022-10-10 00:00:00-04:00</th>\n",
       "      <td>363.959991</td>\n",
       "      <td>364.209991</td>\n",
       "      <td>357.670013</td>\n",
       "      <td>360.019989</td>\n",
       "      <td>76042800</td>\n",
       "      <td>0.0</td>\n",
       "      <td>0.0</td>\n",
       "      <td>0.0</td>\n",
       "      <td>NaN</td>\n",
       "      <td>-0.006661</td>\n",
       "      <td>0</td>\n",
       "    </tr>\n",
       "    <tr>\n",
       "      <th>2022-10-11 00:00:00-04:00</th>\n",
       "      <td>358.239990</td>\n",
       "      <td>363.029999</td>\n",
       "      <td>355.709991</td>\n",
       "      <td>357.739990</td>\n",
       "      <td>92482800</td>\n",
       "      <td>0.0</td>\n",
       "      <td>0.0</td>\n",
       "      <td>0.0</td>\n",
       "      <td>-0.006353</td>\n",
       "      <td>0.025065</td>\n",
       "      <td>1</td>\n",
       "    </tr>\n",
       "    <tr>\n",
       "      <th>2022-10-12 00:00:00-04:00</th>\n",
       "      <td>358.170013</td>\n",
       "      <td>359.820007</td>\n",
       "      <td>356.299988</td>\n",
       "      <td>356.559998</td>\n",
       "      <td>76991800</td>\n",
       "      <td>0.0</td>\n",
       "      <td>0.0</td>\n",
       "      <td>0.0</td>\n",
       "      <td>-0.003304</td>\n",
       "      <td>0.040050</td>\n",
       "      <td>2</td>\n",
       "    </tr>\n",
       "    <tr>\n",
       "      <th>2022-10-13 00:00:00-04:00</th>\n",
       "      <td>349.209991</td>\n",
       "      <td>367.510010</td>\n",
       "      <td>348.109985</td>\n",
       "      <td>365.970001</td>\n",
       "      <td>147254500</td>\n",
       "      <td>0.0</td>\n",
       "      <td>0.0</td>\n",
       "      <td>0.0</td>\n",
       "      <td>0.026049</td>\n",
       "      <td>0.006889</td>\n",
       "      <td>3</td>\n",
       "    </tr>\n",
       "    <tr>\n",
       "      <th>2022-10-14 00:00:00-04:00</th>\n",
       "      <td>368.549988</td>\n",
       "      <td>370.260010</td>\n",
       "      <td>356.959991</td>\n",
       "      <td>357.630005</td>\n",
       "      <td>123737000</td>\n",
       "      <td>0.0</td>\n",
       "      <td>0.0</td>\n",
       "      <td>0.0</td>\n",
       "      <td>-0.023052</td>\n",
       "      <td>0.021521</td>\n",
       "      <td>4</td>\n",
       "    </tr>\n",
       "    <tr>\n",
       "      <th>...</th>\n",
       "      <td>...</td>\n",
       "      <td>...</td>\n",
       "      <td>...</td>\n",
       "      <td>...</td>\n",
       "      <td>...</td>\n",
       "      <td>...</td>\n",
       "      <td>...</td>\n",
       "      <td>...</td>\n",
       "      <td>...</td>\n",
       "      <td>...</td>\n",
       "      <td>...</td>\n",
       "    </tr>\n",
       "    <tr>\n",
       "      <th>2024-10-02 00:00:00-04:00</th>\n",
       "      <td>567.710022</td>\n",
       "      <td>569.900024</td>\n",
       "      <td>565.270020</td>\n",
       "      <td>568.859985</td>\n",
       "      <td>38097800</td>\n",
       "      <td>0.0</td>\n",
       "      <td>0.0</td>\n",
       "      <td>0.0</td>\n",
       "      <td>0.000422</td>\n",
       "      <td>0.007548</td>\n",
       "      <td>2</td>\n",
       "    </tr>\n",
       "    <tr>\n",
       "      <th>2024-10-03 00:00:00-04:00</th>\n",
       "      <td>567.359985</td>\n",
       "      <td>569.799988</td>\n",
       "      <td>565.489990</td>\n",
       "      <td>567.820007</td>\n",
       "      <td>40846500</td>\n",
       "      <td>0.0</td>\n",
       "      <td>0.0</td>\n",
       "      <td>0.0</td>\n",
       "      <td>-0.001830</td>\n",
       "      <td>NaN</td>\n",
       "      <td>3</td>\n",
       "    </tr>\n",
       "    <tr>\n",
       "      <th>2024-10-04 00:00:00-04:00</th>\n",
       "      <td>572.349976</td>\n",
       "      <td>573.359985</td>\n",
       "      <td>568.099976</td>\n",
       "      <td>572.979980</td>\n",
       "      <td>42939100</td>\n",
       "      <td>0.0</td>\n",
       "      <td>0.0</td>\n",
       "      <td>0.0</td>\n",
       "      <td>0.009046</td>\n",
       "      <td>NaN</td>\n",
       "      <td>4</td>\n",
       "    </tr>\n",
       "    <tr>\n",
       "      <th>2024-10-07 00:00:00-04:00</th>\n",
       "      <td>571.299988</td>\n",
       "      <td>571.960022</td>\n",
       "      <td>566.630005</td>\n",
       "      <td>567.799988</td>\n",
       "      <td>49964700</td>\n",
       "      <td>0.0</td>\n",
       "      <td>0.0</td>\n",
       "      <td>0.0</td>\n",
       "      <td>-0.009082</td>\n",
       "      <td>NaN</td>\n",
       "      <td>0</td>\n",
       "    </tr>\n",
       "    <tr>\n",
       "      <th>2024-10-08 00:00:00-04:00</th>\n",
       "      <td>570.419983</td>\n",
       "      <td>573.780029</td>\n",
       "      <td>569.530029</td>\n",
       "      <td>573.169983</td>\n",
       "      <td>37318600</td>\n",
       "      <td>0.0</td>\n",
       "      <td>0.0</td>\n",
       "      <td>0.0</td>\n",
       "      <td>0.009413</td>\n",
       "      <td>NaN</td>\n",
       "      <td>1</td>\n",
       "    </tr>\n",
       "  </tbody>\n",
       "</table>\n",
       "<p>502 rows × 11 columns</p>\n",
       "</div>"
      ],
      "text/plain": [
       "                                 open        high         low       close  \\\n",
       "date                                                                        \n",
       "2022-10-10 00:00:00-04:00  363.959991  364.209991  357.670013  360.019989   \n",
       "2022-10-11 00:00:00-04:00  358.239990  363.029999  355.709991  357.739990   \n",
       "2022-10-12 00:00:00-04:00  358.170013  359.820007  356.299988  356.559998   \n",
       "2022-10-13 00:00:00-04:00  349.209991  367.510010  348.109985  365.970001   \n",
       "2022-10-14 00:00:00-04:00  368.549988  370.260010  356.959991  357.630005   \n",
       "...                               ...         ...         ...         ...   \n",
       "2024-10-02 00:00:00-04:00  567.710022  569.900024  565.270020  568.859985   \n",
       "2024-10-03 00:00:00-04:00  567.359985  569.799988  565.489990  567.820007   \n",
       "2024-10-04 00:00:00-04:00  572.349976  573.359985  568.099976  572.979980   \n",
       "2024-10-07 00:00:00-04:00  571.299988  571.960022  566.630005  567.799988   \n",
       "2024-10-08 00:00:00-04:00  570.419983  573.780029  569.530029  573.169983   \n",
       "\n",
       "                              volume  split_ratio  dividend  capital_gains  \\\n",
       "date                                                                         \n",
       "2022-10-10 00:00:00-04:00   76042800          0.0       0.0            0.0   \n",
       "2022-10-11 00:00:00-04:00   92482800          0.0       0.0            0.0   \n",
       "2022-10-12 00:00:00-04:00   76991800          0.0       0.0            0.0   \n",
       "2022-10-13 00:00:00-04:00  147254500          0.0       0.0            0.0   \n",
       "2022-10-14 00:00:00-04:00  123737000          0.0       0.0            0.0   \n",
       "...                              ...          ...       ...            ...   \n",
       "2024-10-02 00:00:00-04:00   38097800          0.0       0.0            0.0   \n",
       "2024-10-03 00:00:00-04:00   40846500          0.0       0.0            0.0   \n",
       "2024-10-04 00:00:00-04:00   42939100          0.0       0.0            0.0   \n",
       "2024-10-07 00:00:00-04:00   49964700          0.0       0.0            0.0   \n",
       "2024-10-08 00:00:00-04:00   37318600          0.0       0.0            0.0   \n",
       "\n",
       "                           log_return  forward_return  day_of_week  \n",
       "date                                                                \n",
       "2022-10-10 00:00:00-04:00         NaN       -0.006661            0  \n",
       "2022-10-11 00:00:00-04:00   -0.006353        0.025065            1  \n",
       "2022-10-12 00:00:00-04:00   -0.003304        0.040050            2  \n",
       "2022-10-13 00:00:00-04:00    0.026049        0.006889            3  \n",
       "2022-10-14 00:00:00-04:00   -0.023052        0.021521            4  \n",
       "...                               ...             ...          ...  \n",
       "2024-10-02 00:00:00-04:00    0.000422        0.007548            2  \n",
       "2024-10-03 00:00:00-04:00   -0.001830             NaN            3  \n",
       "2024-10-04 00:00:00-04:00    0.009046             NaN            4  \n",
       "2024-10-07 00:00:00-04:00   -0.009082             NaN            0  \n",
       "2024-10-08 00:00:00-04:00    0.009413             NaN            1  \n",
       "\n",
       "[502 rows x 11 columns]"
      ]
     },
     "execution_count": 8,
     "metadata": {},
     "output_type": "execute_result"
    }
   ],
   "source": [
    "spy"
   ]
  },
  {
   "cell_type": "markdown",
   "id": "6b8d69f5-27b5-4116-8304-351b53767de8",
   "metadata": {
    "tags": []
   },
   "source": [
    "### Apply strategy: Select Mondays on which SPY went down"
   ]
  },
  {
   "cell_type": "code",
   "execution_count": 9,
   "id": "6a58682d-ff40-422d-8ff8-3af428844ccf",
   "metadata": {
    "tags": []
   },
   "outputs": [],
   "source": [
    "# Select the Mondays on which SPY went down\n",
    "result_set = spy.loc[(spy[\"day_of_week\"] == 0) & (spy[\"log_return\"] < 0)].dropna()"
   ]
  },
  {
   "cell_type": "markdown",
   "id": "6f37f03f-da83-4c8e-885c-a7faa041d740",
   "metadata": {
    "tags": []
   },
   "source": [
    "## Check results"
   ]
  },
  {
   "cell_type": "code",
   "execution_count": 10,
   "id": "c6d89c87-a445-4f53-8743-23790617ef46",
   "metadata": {
    "tags": []
   },
   "outputs": [],
   "source": [
    "sample = result_set[\"forward_return\"].describe()"
   ]
  },
  {
   "cell_type": "code",
   "execution_count": 11,
   "id": "1ec85992-5b9f-4452-aca1-9bf445bca336",
   "metadata": {
    "tags": []
   },
   "outputs": [
    {
     "data": {
      "text/plain": [
       "count    29.000000\n",
       "mean      0.005265\n",
       "std       0.015405\n",
       "min      -0.025862\n",
       "25%      -0.002939\n",
       "50%       0.005140\n",
       "75%       0.013466\n",
       "max       0.029725\n",
       "Name: forward_return, dtype: float64"
      ]
     },
     "execution_count": 11,
     "metadata": {},
     "output_type": "execute_result"
    }
   ],
   "source": [
    "sample"
   ]
  },
  {
   "cell_type": "markdown",
   "id": "b3eea8c5-2cb9-41d8-aa4c-2077090fd620",
   "metadata": {
    "tags": []
   },
   "source": [
    "### Compare with population mean and calculate t score"
   ]
  },
  {
   "cell_type": "code",
   "execution_count": 12,
   "id": "06cd4317-f85f-48fc-9176-51df8c73b8c1",
   "metadata": {
    "tags": []
   },
   "outputs": [],
   "source": [
    "population = spy[\"forward_return\"].describe()"
   ]
  },
  {
   "cell_type": "code",
   "execution_count": 13,
   "id": "654920c7-7ddb-4936-98ec-4aeb85e8155f",
   "metadata": {},
   "outputs": [
    {
     "data": {
      "text/plain": [
       "0.003695957683490128"
      ]
     },
     "execution_count": 13,
     "metadata": {},
     "output_type": "execute_result"
    }
   ],
   "source": [
    "population['mean']"
   ]
  },
  {
   "cell_type": "code",
   "execution_count": 14,
   "id": "07570862-e89c-454c-adc7-1f428cb8ce0a",
   "metadata": {
    "tags": []
   },
   "outputs": [],
   "source": [
    "t = (sample['mean'] - population['mean']) / (sample['std'] / (sample['count'] ** 0.5))"
   ]
  },
  {
   "cell_type": "code",
   "execution_count": 15,
   "id": "e2134e7f-2240-44e1-a0b4-676bd0e2ba08",
   "metadata": {
    "tags": []
   },
   "outputs": [
    {
     "data": {
      "text/plain": [
       "0.5484088147134322"
      ]
     },
     "execution_count": 15,
     "metadata": {},
     "output_type": "execute_result"
    }
   ],
   "source": [
    "t"
   ]
  },
  {
   "cell_type": "code",
   "execution_count": null,
   "id": "f18a1da5-c9c8-402e-9c6b-160549e74a53",
   "metadata": {},
   "outputs": [],
   "source": []
  }
 ],
 "metadata": {
  "kernelspec": {
   "display_name": "Python 3 (ipykernel)",
   "language": "python",
   "name": "python3"
  },
  "language_info": {
   "codemirror_mode": {
    "name": "ipython",
    "version": 3
   },
   "file_extension": ".py",
   "mimetype": "text/x-python",
   "name": "python",
   "nbconvert_exporter": "python",
   "pygments_lexer": "ipython3",
   "version": "3.11.9"
  }
 },
 "nbformat": 4,
 "nbformat_minor": 5
}
