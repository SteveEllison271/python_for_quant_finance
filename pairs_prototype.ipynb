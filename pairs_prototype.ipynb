{
 "cells": [
  {
   "cell_type": "code",
   "execution_count": 1,
   "id": "5dd458a5-027b-4ac1-958f-c9fee2598eb2",
   "metadata": {
    "tags": []
   },
   "outputs": [],
   "source": [
    "import warnings\n",
    "warnings.filterwarnings(\"ignore\")\n",
    "import pandas as pd\n",
    "import numpy as np\n",
    "import quantstats as qs\n",
    "\n",
    "from openbb import obb\n",
    "obb.user.preferences.output_type = \"dataframe\""
   ]
  },
  {
   "cell_type": "markdown",
   "id": "e987702b-a688-475d-9607-ea1a696f0c6c",
   "metadata": {
    "tags": []
   },
   "source": [
    "This is the number of days we'll look back to calculate the rolling z score."
   ]
  },
  {
   "cell_type": "code",
   "execution_count": 2,
   "id": "353ed56b-5246-4a06-9378-18cdeff3129f",
   "metadata": {
    "tags": []
   },
   "outputs": [],
   "source": [
    "window = 22"
   ]
  },
  {
   "cell_type": "raw",
   "id": "c5e90ca3-f6b2-40b6-b095-f6067d9d1ea2",
   "metadata": {
    "tags": []
   },
   "source": [
    "This is the number of standard deviations the z score needs to be above or \n",
    "below to trigger a trading signal."
   ]
  },
  {
   "cell_type": "code",
   "execution_count": 3,
   "id": "211ba331-daf2-4045-9c92-10cf1e528729",
   "metadata": {
    "tags": []
   },
   "outputs": [],
   "source": [
    "thresh = 1.5"
   ]
  },
  {
   "cell_type": "markdown",
   "id": "86f4aa00-5c83-4478-bc2b-f699f31b6491",
   "metadata": {
    "tags": []
   },
   "source": [
    "Set the start date to 2 calendar years ago."
   ]
  },
  {
   "cell_type": "code",
   "execution_count": 4,
   "id": "476f40b7-5dd6-40e3-9ccc-bb922503c3f9",
   "metadata": {
    "tags": []
   },
   "outputs": [],
   "source": [
    "today = pd.Timestamp.today().strftime(\"%Y-%m-%d\")\n",
    "start_date = (pd.Timestamp.today() - pd.Timedelta(days=365*2)).strftime(\"%Y-%m-%d\")"
   ]
  },
  {
   "cell_type": "markdown",
   "id": "a2940b5d-dbce-4e12-b9d6-0e0ff8559dc6",
   "metadata": {
    "tags": []
   },
   "source": [
    "## Use openbb to get the data for our tickers"
   ]
  },
  {
   "cell_type": "markdown",
   "id": "480a0ba0-122d-4762-9cbf-151619c01c71",
   "metadata": {},
   "source": [
    "Phillips (PSX) and Valero (VLO)"
   ]
  },
  {
   "cell_type": "code",
   "execution_count": 5,
   "id": "c9277658-377a-4fe3-9662-26eaaa92bf3e",
   "metadata": {
    "tags": []
   },
   "outputs": [],
   "source": [
    "psx = obb.equity.price.historical(\n",
    "    \"PSX\",\n",
    "    start_date = start_date,\n",
    "    end_date = today,\n",
    "    provider=\"yfinance\"\n",
    ").close\n",
    "psx.name = \"psx\""
   ]
  },
  {
   "cell_type": "code",
   "execution_count": 6,
   "id": "ea53c04a-294d-4064-a3ec-ae04914d3390",
   "metadata": {
    "tags": []
   },
   "outputs": [],
   "source": [
    "vlo = obb.equity.price.historical(\n",
    "    \"VLO\",\n",
    "    start_date = start_date,\n",
    "    end_date = today,\n",
    "    provider=\"yfinance\"\n",
    ").close\n",
    "vlo.name = \"vlo\""
   ]
  },
  {
   "cell_type": "code",
   "execution_count": 7,
   "id": "cbd05e78-27f4-4cf5-a968-52461bfce933",
   "metadata": {
    "tags": []
   },
   "outputs": [
    {
     "data": {
      "text/plain": [
       "date\n",
       "2022-02-07     90.29\n",
       "2022-02-08     88.82\n",
       "2022-02-09     89.45\n",
       "2022-02-10     89.46\n",
       "2022-02-11     93.20\n",
       "               ...  \n",
       "2024-01-30    142.41\n",
       "2024-01-31    144.31\n",
       "2024-02-01    145.55\n",
       "2024-02-02    145.47\n",
       "2024-02-05    147.24\n",
       "Name: psx, Length: 501, dtype: float64"
      ]
     },
     "execution_count": 7,
     "metadata": {},
     "output_type": "execute_result"
    }
   ],
   "source": [
    "psx"
   ]
  },
  {
   "cell_type": "markdown",
   "id": "e5ca7c47-3031-46f3-9374-6ff4ed320004",
   "metadata": {},
   "source": [
    "Now put all the prices together."
   ]
  },
  {
   "cell_type": "code",
   "execution_count": 8,
   "id": "706a3cd9-88cf-4f1a-846b-960cc98254ba",
   "metadata": {
    "tags": []
   },
   "outputs": [],
   "source": [
    "data = pd.concat([psx, vlo], axis = 1).dropna()"
   ]
  },
  {
   "cell_type": "code",
   "execution_count": 9,
   "id": "19be23bc-6d5b-41d9-9eaf-4da1abe43bd2",
   "metadata": {
    "tags": []
   },
   "outputs": [
    {
     "data": {
      "text/html": [
       "<div>\n",
       "<style scoped>\n",
       "    .dataframe tbody tr th:only-of-type {\n",
       "        vertical-align: middle;\n",
       "    }\n",
       "\n",
       "    .dataframe tbody tr th {\n",
       "        vertical-align: top;\n",
       "    }\n",
       "\n",
       "    .dataframe thead th {\n",
       "        text-align: right;\n",
       "    }\n",
       "</style>\n",
       "<table border=\"1\" class=\"dataframe\">\n",
       "  <thead>\n",
       "    <tr style=\"text-align: right;\">\n",
       "      <th></th>\n",
       "      <th>psx</th>\n",
       "      <th>vlo</th>\n",
       "    </tr>\n",
       "    <tr>\n",
       "      <th>date</th>\n",
       "      <th></th>\n",
       "      <th></th>\n",
       "    </tr>\n",
       "  </thead>\n",
       "  <tbody>\n",
       "    <tr>\n",
       "      <th>2022-02-07</th>\n",
       "      <td>90.29</td>\n",
       "      <td>89.63</td>\n",
       "    </tr>\n",
       "    <tr>\n",
       "      <th>2022-02-08</th>\n",
       "      <td>88.82</td>\n",
       "      <td>88.49</td>\n",
       "    </tr>\n",
       "    <tr>\n",
       "      <th>2022-02-09</th>\n",
       "      <td>89.45</td>\n",
       "      <td>88.84</td>\n",
       "    </tr>\n",
       "    <tr>\n",
       "      <th>2022-02-10</th>\n",
       "      <td>89.46</td>\n",
       "      <td>89.89</td>\n",
       "    </tr>\n",
       "    <tr>\n",
       "      <th>2022-02-11</th>\n",
       "      <td>93.20</td>\n",
       "      <td>92.00</td>\n",
       "    </tr>\n",
       "    <tr>\n",
       "      <th>...</th>\n",
       "      <td>...</td>\n",
       "      <td>...</td>\n",
       "    </tr>\n",
       "    <tr>\n",
       "      <th>2024-01-30</th>\n",
       "      <td>142.41</td>\n",
       "      <td>141.89</td>\n",
       "    </tr>\n",
       "    <tr>\n",
       "      <th>2024-01-31</th>\n",
       "      <td>144.31</td>\n",
       "      <td>138.90</td>\n",
       "    </tr>\n",
       "    <tr>\n",
       "      <th>2024-02-01</th>\n",
       "      <td>145.55</td>\n",
       "      <td>138.29</td>\n",
       "    </tr>\n",
       "    <tr>\n",
       "      <th>2024-02-02</th>\n",
       "      <td>145.47</td>\n",
       "      <td>137.85</td>\n",
       "    </tr>\n",
       "    <tr>\n",
       "      <th>2024-02-05</th>\n",
       "      <td>147.24</td>\n",
       "      <td>140.41</td>\n",
       "    </tr>\n",
       "  </tbody>\n",
       "</table>\n",
       "<p>501 rows × 2 columns</p>\n",
       "</div>"
      ],
      "text/plain": [
       "               psx     vlo\n",
       "date                      \n",
       "2022-02-07   90.29   89.63\n",
       "2022-02-08   88.82   88.49\n",
       "2022-02-09   89.45   88.84\n",
       "2022-02-10   89.46   89.89\n",
       "2022-02-11   93.20   92.00\n",
       "...            ...     ...\n",
       "2024-01-30  142.41  141.89\n",
       "2024-01-31  144.31  138.90\n",
       "2024-02-01  145.55  138.29\n",
       "2024-02-02  145.47  137.85\n",
       "2024-02-05  147.24  140.41\n",
       "\n",
       "[501 rows x 2 columns]"
      ]
     },
     "execution_count": 9,
     "metadata": {},
     "output_type": "execute_result"
    }
   ],
   "source": [
    "data"
   ]
  },
  {
   "cell_type": "markdown",
   "id": "14c099e2-f61a-47d9-9ee7-1392d805f5d4",
   "metadata": {},
   "source": [
    "## Compare the tickers' prices"
   ]
  },
  {
   "cell_type": "code",
   "execution_count": 11,
   "id": "a00b8919-f605-46b5-9562-1d68e28389f0",
   "metadata": {},
   "outputs": [],
   "source": [
    "data[\"pair_ratio\"] = vlo / psx"
   ]
  },
  {
   "cell_type": "code",
   "execution_count": 12,
   "id": "0a1a957f-5fc1-4363-9694-31fa16623b7a",
   "metadata": {
    "tags": []
   },
   "outputs": [
    {
     "data": {
      "text/html": [
       "<div>\n",
       "<style scoped>\n",
       "    .dataframe tbody tr th:only-of-type {\n",
       "        vertical-align: middle;\n",
       "    }\n",
       "\n",
       "    .dataframe tbody tr th {\n",
       "        vertical-align: top;\n",
       "    }\n",
       "\n",
       "    .dataframe thead th {\n",
       "        text-align: right;\n",
       "    }\n",
       "</style>\n",
       "<table border=\"1\" class=\"dataframe\">\n",
       "  <thead>\n",
       "    <tr style=\"text-align: right;\">\n",
       "      <th></th>\n",
       "      <th>psx</th>\n",
       "      <th>vlo</th>\n",
       "      <th>pair_ratio</th>\n",
       "    </tr>\n",
       "    <tr>\n",
       "      <th>date</th>\n",
       "      <th></th>\n",
       "      <th></th>\n",
       "      <th></th>\n",
       "    </tr>\n",
       "  </thead>\n",
       "  <tbody>\n",
       "    <tr>\n",
       "      <th>2022-02-07</th>\n",
       "      <td>90.29</td>\n",
       "      <td>89.63</td>\n",
       "      <td>0.992690</td>\n",
       "    </tr>\n",
       "    <tr>\n",
       "      <th>2022-02-08</th>\n",
       "      <td>88.82</td>\n",
       "      <td>88.49</td>\n",
       "      <td>0.996285</td>\n",
       "    </tr>\n",
       "    <tr>\n",
       "      <th>2022-02-09</th>\n",
       "      <td>89.45</td>\n",
       "      <td>88.84</td>\n",
       "      <td>0.993181</td>\n",
       "    </tr>\n",
       "    <tr>\n",
       "      <th>2022-02-10</th>\n",
       "      <td>89.46</td>\n",
       "      <td>89.89</td>\n",
       "      <td>1.004807</td>\n",
       "    </tr>\n",
       "    <tr>\n",
       "      <th>2022-02-11</th>\n",
       "      <td>93.20</td>\n",
       "      <td>92.00</td>\n",
       "      <td>0.987124</td>\n",
       "    </tr>\n",
       "    <tr>\n",
       "      <th>...</th>\n",
       "      <td>...</td>\n",
       "      <td>...</td>\n",
       "      <td>...</td>\n",
       "    </tr>\n",
       "    <tr>\n",
       "      <th>2024-01-30</th>\n",
       "      <td>142.41</td>\n",
       "      <td>141.89</td>\n",
       "      <td>0.996349</td>\n",
       "    </tr>\n",
       "    <tr>\n",
       "      <th>2024-01-31</th>\n",
       "      <td>144.31</td>\n",
       "      <td>138.90</td>\n",
       "      <td>0.962511</td>\n",
       "    </tr>\n",
       "    <tr>\n",
       "      <th>2024-02-01</th>\n",
       "      <td>145.55</td>\n",
       "      <td>138.29</td>\n",
       "      <td>0.950120</td>\n",
       "    </tr>\n",
       "    <tr>\n",
       "      <th>2024-02-02</th>\n",
       "      <td>145.47</td>\n",
       "      <td>137.85</td>\n",
       "      <td>0.947618</td>\n",
       "    </tr>\n",
       "    <tr>\n",
       "      <th>2024-02-05</th>\n",
       "      <td>147.24</td>\n",
       "      <td>140.41</td>\n",
       "      <td>0.953613</td>\n",
       "    </tr>\n",
       "  </tbody>\n",
       "</table>\n",
       "<p>501 rows × 3 columns</p>\n",
       "</div>"
      ],
      "text/plain": [
       "               psx     vlo  pair_ratio\n",
       "date                                  \n",
       "2022-02-07   90.29   89.63    0.992690\n",
       "2022-02-08   88.82   88.49    0.996285\n",
       "2022-02-09   89.45   88.84    0.993181\n",
       "2022-02-10   89.46   89.89    1.004807\n",
       "2022-02-11   93.20   92.00    0.987124\n",
       "...            ...     ...         ...\n",
       "2024-01-30  142.41  141.89    0.996349\n",
       "2024-01-31  144.31  138.90    0.962511\n",
       "2024-02-01  145.55  138.29    0.950120\n",
       "2024-02-02  145.47  137.85    0.947618\n",
       "2024-02-05  147.24  140.41    0.953613\n",
       "\n",
       "[501 rows x 3 columns]"
      ]
     },
     "execution_count": 12,
     "metadata": {},
     "output_type": "execute_result"
    }
   ],
   "source": [
    "data"
   ]
  },
  {
   "cell_type": "code",
   "execution_count": 13,
   "id": "13dfe201-90ce-4a51-9157-7ab2e2fbde33",
   "metadata": {
    "tags": []
   },
   "outputs": [
    {
     "data": {
      "text/plain": [
       "<Axes: xlabel='date'>"
      ]
     },
     "execution_count": 13,
     "metadata": {},
     "output_type": "execute_result"
    },
    {
     "data": {
      "image/png": "[encoded data removed]",
      "text/plain": [
       "<Figure size 1000x600 with 1 Axes>"
      ]
     },
     "metadata": {},
     "output_type": "display_data"
    }
   ],
   "source": [
    "data.pair_ratio.plot()"
   ]
  },
  {
   "cell_type": "markdown",
   "id": "b6405345-fd19-4c93-8116-34a36c98f465",
   "metadata": {},
   "source": [
    "## Execution"
   ]
  },
  {
   "cell_type": "markdown",
   "id": "7c260b48-3bb9-4cc3-8518-83c3b7fbb9fa",
   "metadata": {},
   "source": [
    "Compute the rolling z score of the ratio of VLO to PSX"
   ]
  },
  {
   "cell_type": "code",
   "execution_count": 14,
   "id": "f5258df5-aff6-46e3-86e0-1544218fc256",
   "metadata": {
    "tags": []
   },
   "outputs": [],
   "source": [
    "data[\"z\"] = (\n",
    "  data.pair_ratio\n",
    "  - data.pair_ratio.rolling(window=window).mean()\n",
    ") / data.pair_ratio.rolling(window=window).std()"
   ]
  },
  {
   "cell_type": "code",
   "execution_count": 15,
   "id": "9e51edf3-731d-41ac-a8a4-0f7f503ec740",
   "metadata": {
    "tags": []
   },
   "outputs": [
    {
     "data": {
      "text/html": [
       "<div>\n",
       "<style scoped>\n",
       "    .dataframe tbody tr th:only-of-type {\n",
       "        vertical-align: middle;\n",
       "    }\n",
       "\n",
       "    .dataframe tbody tr th {\n",
       "        vertical-align: top;\n",
       "    }\n",
       "\n",
       "    .dataframe thead th {\n",
       "        text-align: right;\n",
       "    }\n",
       "</style>\n",
       "<table border=\"1\" class=\"dataframe\">\n",
       "  <thead>\n",
       "    <tr style=\"text-align: right;\">\n",
       "      <th></th>\n",
       "      <th>psx</th>\n",
       "      <th>vlo</th>\n",
       "      <th>pair_ratio</th>\n",
       "      <th>z</th>\n",
       "    </tr>\n",
       "    <tr>\n",
       "      <th>date</th>\n",
       "      <th></th>\n",
       "      <th></th>\n",
       "      <th></th>\n",
       "      <th></th>\n",
       "    </tr>\n",
       "  </thead>\n",
       "  <tbody>\n",
       "    <tr>\n",
       "      <th>2022-02-07</th>\n",
       "      <td>90.29</td>\n",
       "      <td>89.63</td>\n",
       "      <td>0.992690</td>\n",
       "      <td>NaN</td>\n",
       "    </tr>\n",
       "    <tr>\n",
       "      <th>2022-02-08</th>\n",
       "      <td>88.82</td>\n",
       "      <td>88.49</td>\n",
       "      <td>0.996285</td>\n",
       "      <td>NaN</td>\n",
       "    </tr>\n",
       "    <tr>\n",
       "      <th>2022-02-09</th>\n",
       "      <td>89.45</td>\n",
       "      <td>88.84</td>\n",
       "      <td>0.993181</td>\n",
       "      <td>NaN</td>\n",
       "    </tr>\n",
       "    <tr>\n",
       "      <th>2022-02-10</th>\n",
       "      <td>89.46</td>\n",
       "      <td>89.89</td>\n",
       "      <td>1.004807</td>\n",
       "      <td>NaN</td>\n",
       "    </tr>\n",
       "    <tr>\n",
       "      <th>2022-02-11</th>\n",
       "      <td>93.20</td>\n",
       "      <td>92.00</td>\n",
       "      <td>0.987124</td>\n",
       "      <td>NaN</td>\n",
       "    </tr>\n",
       "    <tr>\n",
       "      <th>...</th>\n",
       "      <td>...</td>\n",
       "      <td>...</td>\n",
       "      <td>...</td>\n",
       "      <td>...</td>\n",
       "    </tr>\n",
       "    <tr>\n",
       "      <th>2024-01-30</th>\n",
       "      <td>142.41</td>\n",
       "      <td>141.89</td>\n",
       "      <td>0.996349</td>\n",
       "      <td>1.251981</td>\n",
       "    </tr>\n",
       "    <tr>\n",
       "      <th>2024-01-31</th>\n",
       "      <td>144.31</td>\n",
       "      <td>138.90</td>\n",
       "      <td>0.962511</td>\n",
       "      <td>-1.209289</td>\n",
       "    </tr>\n",
       "    <tr>\n",
       "      <th>2024-02-01</th>\n",
       "      <td>145.55</td>\n",
       "      <td>138.29</td>\n",
       "      <td>0.950120</td>\n",
       "      <td>-1.847787</td>\n",
       "    </tr>\n",
       "    <tr>\n",
       "      <th>2024-02-02</th>\n",
       "      <td>145.47</td>\n",
       "      <td>137.85</td>\n",
       "      <td>0.947618</td>\n",
       "      <td>-1.782258</td>\n",
       "    </tr>\n",
       "    <tr>\n",
       "      <th>2024-02-05</th>\n",
       "      <td>147.24</td>\n",
       "      <td>140.41</td>\n",
       "      <td>0.953613</td>\n",
       "      <td>-1.280474</td>\n",
       "    </tr>\n",
       "  </tbody>\n",
       "</table>\n",
       "<p>501 rows × 4 columns</p>\n",
       "</div>"
      ],
      "text/plain": [
       "               psx     vlo  pair_ratio         z\n",
       "date                                            \n",
       "2022-02-07   90.29   89.63    0.992690       NaN\n",
       "2022-02-08   88.82   88.49    0.996285       NaN\n",
       "2022-02-09   89.45   88.84    0.993181       NaN\n",
       "2022-02-10   89.46   89.89    1.004807       NaN\n",
       "2022-02-11   93.20   92.00    0.987124       NaN\n",
       "...            ...     ...         ...       ...\n",
       "2024-01-30  142.41  141.89    0.996349  1.251981\n",
       "2024-01-31  144.31  138.90    0.962511 -1.209289\n",
       "2024-02-01  145.55  138.29    0.950120 -1.847787\n",
       "2024-02-02  145.47  137.85    0.947618 -1.782258\n",
       "2024-02-05  147.24  140.41    0.953613 -1.280474\n",
       "\n",
       "[501 rows x 4 columns]"
      ]
     },
     "execution_count": 15,
     "metadata": {},
     "output_type": "execute_result"
    }
   ],
   "source": [
    "data"
   ]
  },
  {
   "cell_type": "markdown",
   "id": "546ef9f4-3cd7-476e-b2e5-caff48ab3543",
   "metadata": {},
   "source": [
    "Now we create a long position (represented by 1) if the z-score falls below the lower threshold. We create a short position (represented by -1) if the z-score rises above the upper threshold. In other words, if the normalized difference between the spread and the refiner is at an extreme value, we expect it to revert back to its mean."
   ]
  },
  {
   "cell_type": "code",
   "execution_count": 19,
   "id": "32af3f77-98dd-4d85-813f-f9d4246abf6a",
   "metadata": {
    "tags": []
   },
   "outputs": [],
   "source": [
    "data[\"position\"] = np.select(\n",
    "    [data.z < -thresh, data.z > thresh],\n",
    "    [1, -1],\n",
    "    default=0\n",
    ")"
   ]
  },
  {
   "cell_type": "markdown",
   "id": "a2482f7d-55ab-46e4-b7da-65a65b115662",
   "metadata": {
    "tags": []
   },
   "source": [
    "Calculate the returns on owning VLO"
   ]
  },
  {
   "cell_type": "code",
   "execution_count": 21,
   "id": "559f3b17-e18b-45d5-80ce-2addd6063743",
   "metadata": {
    "tags": []
   },
   "outputs": [],
   "source": [
    "data[\"vlo_returns\"] = data.vlo.apply(np.log).diff(1)"
   ]
  },
  {
   "cell_type": "code",
   "execution_count": 22,
   "id": "97a9b027-c881-4dec-80cd-daddeee1bedb",
   "metadata": {
    "tags": []
   },
   "outputs": [
    {
     "data": {
      "text/html": [
       "<div>\n",
       "<style scoped>\n",
       "    .dataframe tbody tr th:only-of-type {\n",
       "        vertical-align: middle;\n",
       "    }\n",
       "\n",
       "    .dataframe tbody tr th {\n",
       "        vertical-align: top;\n",
       "    }\n",
       "\n",
       "    .dataframe thead th {\n",
       "        text-align: right;\n",
       "    }\n",
       "</style>\n",
       "<table border=\"1\" class=\"dataframe\">\n",
       "  <thead>\n",
       "    <tr style=\"text-align: right;\">\n",
       "      <th></th>\n",
       "      <th>psx</th>\n",
       "      <th>vlo</th>\n",
       "      <th>pair_ratio</th>\n",
       "      <th>z</th>\n",
       "      <th>position</th>\n",
       "      <th>vlo_returns</th>\n",
       "    </tr>\n",
       "    <tr>\n",
       "      <th>date</th>\n",
       "      <th></th>\n",
       "      <th></th>\n",
       "      <th></th>\n",
       "      <th></th>\n",
       "      <th></th>\n",
       "      <th></th>\n",
       "    </tr>\n",
       "  </thead>\n",
       "  <tbody>\n",
       "    <tr>\n",
       "      <th>2022-02-07</th>\n",
       "      <td>90.29</td>\n",
       "      <td>89.63</td>\n",
       "      <td>0.992690</td>\n",
       "      <td>NaN</td>\n",
       "      <td>0</td>\n",
       "      <td>NaN</td>\n",
       "    </tr>\n",
       "    <tr>\n",
       "      <th>2022-02-08</th>\n",
       "      <td>88.82</td>\n",
       "      <td>88.49</td>\n",
       "      <td>0.996285</td>\n",
       "      <td>NaN</td>\n",
       "      <td>0</td>\n",
       "      <td>-0.012801</td>\n",
       "    </tr>\n",
       "    <tr>\n",
       "      <th>2022-02-09</th>\n",
       "      <td>89.45</td>\n",
       "      <td>88.84</td>\n",
       "      <td>0.993181</td>\n",
       "      <td>NaN</td>\n",
       "      <td>0</td>\n",
       "      <td>0.003947</td>\n",
       "    </tr>\n",
       "    <tr>\n",
       "      <th>2022-02-10</th>\n",
       "      <td>89.46</td>\n",
       "      <td>89.89</td>\n",
       "      <td>1.004807</td>\n",
       "      <td>NaN</td>\n",
       "      <td>0</td>\n",
       "      <td>0.011750</td>\n",
       "    </tr>\n",
       "    <tr>\n",
       "      <th>2022-02-11</th>\n",
       "      <td>93.20</td>\n",
       "      <td>92.00</td>\n",
       "      <td>0.987124</td>\n",
       "      <td>NaN</td>\n",
       "      <td>0</td>\n",
       "      <td>0.023202</td>\n",
       "    </tr>\n",
       "    <tr>\n",
       "      <th>...</th>\n",
       "      <td>...</td>\n",
       "      <td>...</td>\n",
       "      <td>...</td>\n",
       "      <td>...</td>\n",
       "      <td>...</td>\n",
       "      <td>...</td>\n",
       "    </tr>\n",
       "    <tr>\n",
       "      <th>2024-01-30</th>\n",
       "      <td>142.41</td>\n",
       "      <td>141.89</td>\n",
       "      <td>0.996349</td>\n",
       "      <td>1.251981</td>\n",
       "      <td>0</td>\n",
       "      <td>0.025049</td>\n",
       "    </tr>\n",
       "    <tr>\n",
       "      <th>2024-01-31</th>\n",
       "      <td>144.31</td>\n",
       "      <td>138.90</td>\n",
       "      <td>0.962511</td>\n",
       "      <td>-1.209289</td>\n",
       "      <td>0</td>\n",
       "      <td>-0.021298</td>\n",
       "    </tr>\n",
       "    <tr>\n",
       "      <th>2024-02-01</th>\n",
       "      <td>145.55</td>\n",
       "      <td>138.29</td>\n",
       "      <td>0.950120</td>\n",
       "      <td>-1.847787</td>\n",
       "      <td>1</td>\n",
       "      <td>-0.004401</td>\n",
       "    </tr>\n",
       "    <tr>\n",
       "      <th>2024-02-02</th>\n",
       "      <td>145.47</td>\n",
       "      <td>137.85</td>\n",
       "      <td>0.947618</td>\n",
       "      <td>-1.782258</td>\n",
       "      <td>1</td>\n",
       "      <td>-0.003187</td>\n",
       "    </tr>\n",
       "    <tr>\n",
       "      <th>2024-02-05</th>\n",
       "      <td>147.24</td>\n",
       "      <td>140.41</td>\n",
       "      <td>0.953613</td>\n",
       "      <td>-1.280474</td>\n",
       "      <td>0</td>\n",
       "      <td>0.018401</td>\n",
       "    </tr>\n",
       "  </tbody>\n",
       "</table>\n",
       "<p>501 rows × 6 columns</p>\n",
       "</div>"
      ],
      "text/plain": [
       "               psx     vlo  pair_ratio         z  position  vlo_returns\n",
       "date                                                                   \n",
       "2022-02-07   90.29   89.63    0.992690       NaN         0          NaN\n",
       "2022-02-08   88.82   88.49    0.996285       NaN         0    -0.012801\n",
       "2022-02-09   89.45   88.84    0.993181       NaN         0     0.003947\n",
       "2022-02-10   89.46   89.89    1.004807       NaN         0     0.011750\n",
       "2022-02-11   93.20   92.00    0.987124       NaN         0     0.023202\n",
       "...            ...     ...         ...       ...       ...          ...\n",
       "2024-01-30  142.41  141.89    0.996349  1.251981         0     0.025049\n",
       "2024-01-31  144.31  138.90    0.962511 -1.209289         0    -0.021298\n",
       "2024-02-01  145.55  138.29    0.950120 -1.847787         1    -0.004401\n",
       "2024-02-02  145.47  137.85    0.947618 -1.782258         1    -0.003187\n",
       "2024-02-05  147.24  140.41    0.953613 -1.280474         0     0.018401\n",
       "\n",
       "[501 rows x 6 columns]"
      ]
     },
     "execution_count": 22,
     "metadata": {},
     "output_type": "execute_result"
    }
   ],
   "source": [
    "data"
   ]
  },
  {
   "cell_type": "markdown",
   "id": "6b389b99-4330-4b3f-89ff-db595b0e8a52",
   "metadata": {},
   "source": [
    "To compute the strategy returns, we multiply the position value by the return. We shift the position data by one day, aligning yesterday's position with today's returns, and then multiply it with VLO's returns for the current period. If the position value is 1 (long) and the return is positive, we have a positive return for that day. If the position value is 1 (long) and the return is negative, we have a negative return for that day."
   ]
  },
  {
   "cell_type": "code",
   "execution_count": 23,
   "id": "b71fe58a-37c7-45c5-8fba-1167fbf38b78",
   "metadata": {
    "tags": []
   },
   "outputs": [],
   "source": [
    "strategy_returns = data.position.shift(1) * data.vlo_returns"
   ]
  },
  {
   "cell_type": "code",
   "execution_count": 24,
   "id": "bb1d05e8-7219-4120-82cf-18f66a004972",
   "metadata": {
    "tags": []
   },
   "outputs": [
    {
     "name": "stdout",
     "output_type": "stream",
     "text": [
      "                           Strategy\n",
      "-------------------------  ----------\n",
      "Start Period               2022-02-08\n",
      "End Period                 2024-02-05\n",
      "Risk-Free Rate             0.0%\n",
      "Time in Market             26.0%\n",
      "\n",
      "Cumulative Return          -29.58%\n",
      "CAGR﹪                     -11.45%\n",
      "\n",
      "Sharpe                     -0.74\n",
      "Prob. Sharpe Ratio         15.02%\n",
      "Smart Sharpe               -0.72\n",
      "Sortino                    -1.0\n",
      "Smart Sortino              -0.98\n",
      "Sortino/√2                 -0.71\n",
      "Smart Sortino/√2           -0.69\n",
      "Omega                      0.79\n",
      "\n",
      "Max Drawdown               -39.24%\n",
      "Longest DD Days            692\n",
      "Volatility (ann.)          20.96%\n",
      "Calmar                     -0.29\n",
      "Skew                       -0.03\n",
      "Kurtosis                   12.93\n",
      "\n",
      "Expected Daily %           -0.07%\n",
      "Expected Monthly %         -1.39%\n",
      "Expected Yearly %          -11.03%\n",
      "Kelly Criterion            -11.81%\n",
      "Risk of Ruin               0.0%\n",
      "Daily Value-at-Risk        -2.23%\n",
      "Expected Shortfall (cVaR)  -2.23%\n",
      "\n",
      "Max Consecutive Wins       4\n",
      "Max Consecutive Losses     7\n",
      "Gain/Pain Ratio            -0.21\n",
      "Gain/Pain (1M)             -0.44\n",
      "\n",
      "Payoff Ratio               1.03\n",
      "Profit Factor              0.79\n",
      "Common Sense Ratio         0.68\n",
      "CPC Index                  0.35\n",
      "Tail Ratio                 0.86\n",
      "Outlier Win Ratio          15.26\n",
      "Outlier Loss Ratio         2.57\n",
      "\n",
      "MTD                        1.52%\n",
      "3M                         -6.17%\n",
      "6M                         9.16%\n",
      "YTD                        -1.22%\n",
      "1Y                         3.23%\n",
      "3Y (ann.)                  -11.45%\n",
      "5Y (ann.)                  -11.45%\n",
      "10Y (ann.)                 -11.45%\n",
      "All-time (ann.)            -11.45%\n",
      "\n",
      "Best Day                   8.67%\n",
      "Worst Day                  -7.74%\n",
      "Best Month                 8.19%\n",
      "Worst Month                -12.33%\n",
      "Best Year                  1.03%\n",
      "Worst Year                 -29.44%\n",
      "\n",
      "Avg. Drawdown              -22.12%\n",
      "Avg. Drawdown Days         348\n",
      "Recovery Factor            0.78\n",
      "Ulcer Index                0.29\n",
      "Serenity Index             -0.03\n",
      "\n",
      "Avg. Up Month              4.23%\n",
      "Avg. Down Month            -4.97%\n",
      "Win Days %                 43.31%\n",
      "Win Month %                39.13%\n",
      "Win Quarter %              11.11%\n",
      "Win Year %                 33.33%\n"
     ]
    }
   ],
   "source": [
    "qs.reports.metrics(\n",
    "    strategy_returns,\n",
    "    mode=\"full\"\n",
    ")"
   ]
  },
  {
   "cell_type": "code",
   "execution_count": null,
   "id": "d3ecfd8b-90ad-4399-9133-234a12169c62",
   "metadata": {},
   "outputs": [],
   "source": []
  }
 ],
 "metadata": {
  "kernelspec": {
   "display_name": "Python 3 (ipykernel)",
   "language": "python",
   "name": "python3"
  },
  "language_info": {
   "codemirror_mode": {
    "name": "ipython",
    "version": 3
   },
   "file_extension": ".py",
   "mimetype": "text/x-python",
   "name": "python",
   "nbconvert_exporter": "python",
   "pygments_lexer": "ipython3",
   "version": "3.10.13"
  }
 },
 "nbformat": 4,
 "nbformat_minor": 5
}
