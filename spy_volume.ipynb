{
 "cells": [
  {
   "cell_type": "code",
   "execution_count": 43,
   "id": "f8181f89-9fd0-47ae-adcf-f1eb9b087dfe",
   "metadata": {
    "tags": []
   },
   "outputs": [],
   "source": [
    "import numpy as np\n",
    "import pandas as pd\n",
    "import matplotlib.pyplot as plt\n",
    "\n",
    "from openbb_terminal.sdk import openbb\n",
    "import quantstats as qs\n",
    "\n",
    "import seaborn as sns"
   ]
  },
  {
   "cell_type": "markdown",
   "id": "a2c4c74d-1b45-4473-99c9-f3d6160730e3",
   "metadata": {},
   "source": [
    "## Get daily data for SPY for 2 years"
   ]
  },
  {
   "cell_type": "code",
   "execution_count": 44,
   "id": "51c6f050-3f79-44f4-8e46-4d41ca827381",
   "metadata": {
    "tags": []
   },
   "outputs": [
    {
     "data": {
      "text/html": [
       "<pre style=\"white-space:pre;overflow-x:auto;line-height:normal;font-family:Menlo,'DejaVu Sans Mono',consolas,'Courier New',monospace\">Loading Daily data for SPY with starting period 2021-06-01.\n",
       "</pre>\n"
      ],
      "text/plain": [
       "Loading Daily data for SPY with starting period 2021-06-01.\n"
      ]
     },
     "metadata": {},
     "output_type": "display_data"
    }
   ],
   "source": [
    "data = openbb.stocks.load(\"SPY\", start_date=\"2021-06-01\", end_date=\"2023-06-30\")"
   ]
  },
  {
   "cell_type": "markdown",
   "id": "1a4f5e2e-a849-4ec6-8700-5c59d09f0f08",
   "metadata": {
    "tags": []
   },
   "source": [
    "## For each day, calculate the 4-day cumulative volume, and the 4-day lookahead log return"
   ]
  },
  {
   "cell_type": "code",
   "execution_count": 45,
   "id": "7ba3fb4d-0444-41b5-9d4a-9f0e1e2a23b8",
   "metadata": {
    "tags": []
   },
   "outputs": [],
   "source": [
    "data['four_day_vol'] = data['Volume'].rolling(4).sum()\n",
    "data['four_day_forward_return'] = - data[\"Adj Close\"].apply(np.log).diff(-4)"
   ]
  },
  {
   "cell_type": "markdown",
   "id": "709f20ce-a0da-4a00-8fba-7f5d96c12b34",
   "metadata": {
    "tags": []
   },
   "source": [
    "## To avoid overlapping observations, select every 4th day"
   ]
  },
  {
   "cell_type": "code",
   "execution_count": 46,
   "id": "1ec85992-5b9f-4452-aca1-9bf445bca336",
   "metadata": {
    "tags": []
   },
   "outputs": [],
   "source": [
    "result_set = data.iloc[::4, :].dropna()"
   ]
  },
  {
   "cell_type": "code",
   "execution_count": 47,
   "id": "16d3585f-b617-4874-9834-c60f386074ca",
   "metadata": {
    "tags": []
   },
   "outputs": [
    {
     "data": {
      "text/html": [
       "<div>\n",
       "<style scoped>\n",
       "    .dataframe tbody tr th:only-of-type {\n",
       "        vertical-align: middle;\n",
       "    }\n",
       "\n",
       "    .dataframe tbody tr th {\n",
       "        vertical-align: top;\n",
       "    }\n",
       "\n",
       "    .dataframe thead th {\n",
       "        text-align: right;\n",
       "    }\n",
       "</style>\n",
       "<table border=\"1\" class=\"dataframe\">\n",
       "  <thead>\n",
       "    <tr style=\"text-align: right;\">\n",
       "      <th></th>\n",
       "      <th>Open</th>\n",
       "      <th>High</th>\n",
       "      <th>Low</th>\n",
       "      <th>Close</th>\n",
       "      <th>Adj Close</th>\n",
       "      <th>Volume</th>\n",
       "      <th>Dividends</th>\n",
       "      <th>Stock Splits</th>\n",
       "      <th>four_day_vol</th>\n",
       "      <th>four_day_forward_return</th>\n",
       "    </tr>\n",
       "    <tr>\n",
       "      <th>date</th>\n",
       "      <th></th>\n",
       "      <th></th>\n",
       "      <th></th>\n",
       "      <th></th>\n",
       "      <th></th>\n",
       "      <th></th>\n",
       "      <th></th>\n",
       "      <th></th>\n",
       "      <th></th>\n",
       "      <th></th>\n",
       "    </tr>\n",
       "  </thead>\n",
       "  <tbody>\n",
       "    <tr>\n",
       "      <th>2021-06-07</th>\n",
       "      <td>407.197894</td>\n",
       "      <td>407.380976</td>\n",
       "      <td>405.848893</td>\n",
       "      <td>406.812469</td>\n",
       "      <td>406.812469</td>\n",
       "      <td>51555000</td>\n",
       "      <td>0.0</td>\n",
       "      <td>0.0</td>\n",
       "      <td>214729700.0</td>\n",
       "      <td>0.005009</td>\n",
       "    </tr>\n",
       "    <tr>\n",
       "      <th>2021-06-11</th>\n",
       "      <td>408.749276</td>\n",
       "      <td>408.970880</td>\n",
       "      <td>407.419535</td>\n",
       "      <td>408.855255</td>\n",
       "      <td>408.855255</td>\n",
       "      <td>45570800</td>\n",
       "      <td>0.0</td>\n",
       "      <td>0.0</td>\n",
       "      <td>192161500.0</td>\n",
       "      <td>-0.005530</td>\n",
       "    </tr>\n",
       "    <tr>\n",
       "      <th>2021-06-17</th>\n",
       "      <td>406.311433</td>\n",
       "      <td>407.612238</td>\n",
       "      <td>404.047022</td>\n",
       "      <td>406.600494</td>\n",
       "      <td>406.600494</td>\n",
       "      <td>90949700</td>\n",
       "      <td>0.0</td>\n",
       "      <td>0.0</td>\n",
       "      <td>265202800.0</td>\n",
       "      <td>0.004758</td>\n",
       "    </tr>\n",
       "    <tr>\n",
       "      <th>2021-06-23</th>\n",
       "      <td>409.110101</td>\n",
       "      <td>409.941473</td>\n",
       "      <td>408.452732</td>\n",
       "      <td>408.539734</td>\n",
       "      <td>408.539734</td>\n",
       "      <td>49445400</td>\n",
       "      <td>0.0</td>\n",
       "      <td>0.0</td>\n",
       "      <td>298644000.0</td>\n",
       "      <td>0.011996</td>\n",
       "    </tr>\n",
       "    <tr>\n",
       "      <th>2021-06-29</th>\n",
       "      <td>413.644066</td>\n",
       "      <td>414.301435</td>\n",
       "      <td>412.919020</td>\n",
       "      <td>413.470062</td>\n",
       "      <td>413.470062</td>\n",
       "      <td>35970500</td>\n",
       "      <td>0.0</td>\n",
       "      <td>0.0</td>\n",
       "      <td>192369900.0</td>\n",
       "      <td>0.012154</td>\n",
       "    </tr>\n",
       "    <tr>\n",
       "      <th>...</th>\n",
       "      <td>...</td>\n",
       "      <td>...</td>\n",
       "      <td>...</td>\n",
       "      <td>...</td>\n",
       "      <td>...</td>\n",
       "      <td>...</td>\n",
       "      <td>...</td>\n",
       "      <td>...</td>\n",
       "      <td>...</td>\n",
       "      <td>...</td>\n",
       "    </tr>\n",
       "    <tr>\n",
       "      <th>2023-06-01</th>\n",
       "      <td>415.078594</td>\n",
       "      <td>419.873821</td>\n",
       "      <td>413.787969</td>\n",
       "      <td>418.781738</td>\n",
       "      <td>418.781738</td>\n",
       "      <td>88865000</td>\n",
       "      <td>0.0</td>\n",
       "      <td>0.0</td>\n",
       "      <td>365722800.0</td>\n",
       "      <td>0.011151</td>\n",
       "    </tr>\n",
       "    <tr>\n",
       "      <th>2023-06-07</th>\n",
       "      <td>425.354032</td>\n",
       "      <td>426.525525</td>\n",
       "      <td>423.040797</td>\n",
       "      <td>423.477631</td>\n",
       "      <td>423.477631</td>\n",
       "      <td>85373300</td>\n",
       "      <td>0.0</td>\n",
       "      <td>0.0</td>\n",
       "      <td>306222400.0</td>\n",
       "      <td>0.023425</td>\n",
       "    </tr>\n",
       "    <tr>\n",
       "      <th>2023-06-13</th>\n",
       "      <td>432.184487</td>\n",
       "      <td>434.179989</td>\n",
       "      <td>431.499454</td>\n",
       "      <td>433.514832</td>\n",
       "      <td>433.514832</td>\n",
       "      <td>95899700</td>\n",
       "      <td>0.0</td>\n",
       "      <td>0.0</td>\n",
       "      <td>319699600.0</td>\n",
       "      <td>0.004898</td>\n",
       "    </tr>\n",
       "    <tr>\n",
       "      <th>2023-06-20</th>\n",
       "      <td>435.912411</td>\n",
       "      <td>436.829161</td>\n",
       "      <td>433.500904</td>\n",
       "      <td>435.643341</td>\n",
       "      <td>435.643341</td>\n",
       "      <td>76160400</td>\n",
       "      <td>0.0</td>\n",
       "      <td>0.0</td>\n",
       "      <td>401196900.0</td>\n",
       "      <td>-0.013217</td>\n",
       "    </tr>\n",
       "    <tr>\n",
       "      <th>2023-06-26</th>\n",
       "      <td>431.099368</td>\n",
       "      <td>433.082364</td>\n",
       "      <td>429.674402</td>\n",
       "      <td>429.923523</td>\n",
       "      <td>429.923523</td>\n",
       "      <td>72823600</td>\n",
       "      <td>0.0</td>\n",
       "      <td>0.0</td>\n",
       "      <td>312517600.0</td>\n",
       "      <td>0.027073</td>\n",
       "    </tr>\n",
       "  </tbody>\n",
       "</table>\n",
       "<p>130 rows × 10 columns</p>\n",
       "</div>"
      ],
      "text/plain": [
       "                  Open        High         Low       Close   Adj Close  \\\n",
       "date                                                                     \n",
       "2021-06-07  407.197894  407.380976  405.848893  406.812469  406.812469   \n",
       "2021-06-11  408.749276  408.970880  407.419535  408.855255  408.855255   \n",
       "2021-06-17  406.311433  407.612238  404.047022  406.600494  406.600494   \n",
       "2021-06-23  409.110101  409.941473  408.452732  408.539734  408.539734   \n",
       "2021-06-29  413.644066  414.301435  412.919020  413.470062  413.470062   \n",
       "...                ...         ...         ...         ...         ...   \n",
       "2023-06-01  415.078594  419.873821  413.787969  418.781738  418.781738   \n",
       "2023-06-07  425.354032  426.525525  423.040797  423.477631  423.477631   \n",
       "2023-06-13  432.184487  434.179989  431.499454  433.514832  433.514832   \n",
       "2023-06-20  435.912411  436.829161  433.500904  435.643341  435.643341   \n",
       "2023-06-26  431.099368  433.082364  429.674402  429.923523  429.923523   \n",
       "\n",
       "              Volume  Dividends  Stock Splits  four_day_vol  \\\n",
       "date                                                          \n",
       "2021-06-07  51555000        0.0           0.0   214729700.0   \n",
       "2021-06-11  45570800        0.0           0.0   192161500.0   \n",
       "2021-06-17  90949700        0.0           0.0   265202800.0   \n",
       "2021-06-23  49445400        0.0           0.0   298644000.0   \n",
       "2021-06-29  35970500        0.0           0.0   192369900.0   \n",
       "...              ...        ...           ...           ...   \n",
       "2023-06-01  88865000        0.0           0.0   365722800.0   \n",
       "2023-06-07  85373300        0.0           0.0   306222400.0   \n",
       "2023-06-13  95899700        0.0           0.0   319699600.0   \n",
       "2023-06-20  76160400        0.0           0.0   401196900.0   \n",
       "2023-06-26  72823600        0.0           0.0   312517600.0   \n",
       "\n",
       "            four_day_forward_return  \n",
       "date                                 \n",
       "2021-06-07                 0.005009  \n",
       "2021-06-11                -0.005530  \n",
       "2021-06-17                 0.004758  \n",
       "2021-06-23                 0.011996  \n",
       "2021-06-29                 0.012154  \n",
       "...                             ...  \n",
       "2023-06-01                 0.011151  \n",
       "2023-06-07                 0.023425  \n",
       "2023-06-13                 0.004898  \n",
       "2023-06-20                -0.013217  \n",
       "2023-06-26                 0.027073  \n",
       "\n",
       "[130 rows x 10 columns]"
      ]
     },
     "execution_count": 47,
     "metadata": {},
     "output_type": "execute_result"
    }
   ],
   "source": [
    "result_set"
   ]
  },
  {
   "cell_type": "markdown",
   "id": "c10ea85e-389b-41f4-a674-3c971d8faddc",
   "metadata": {},
   "source": [
    "## Run a regression of the 4-day forward return vs. the 4-day lookback volume"
   ]
  },
  {
   "cell_type": "code",
   "execution_count": 48,
   "id": "595c823f-8c29-47ed-9072-17bad6bafc93",
   "metadata": {
    "tags": []
   },
   "outputs": [],
   "source": [
    "corr_set = result_set[['four_day_vol', 'four_day_forward_return']]"
   ]
  },
  {
   "cell_type": "code",
   "execution_count": 49,
   "id": "06cd4317-f85f-48fc-9176-51df8c73b8c1",
   "metadata": {
    "tags": []
   },
   "outputs": [
    {
     "data": {
      "text/html": [
       "<div>\n",
       "<style scoped>\n",
       "    .dataframe tbody tr th:only-of-type {\n",
       "        vertical-align: middle;\n",
       "    }\n",
       "\n",
       "    .dataframe tbody tr th {\n",
       "        vertical-align: top;\n",
       "    }\n",
       "\n",
       "    .dataframe thead th {\n",
       "        text-align: right;\n",
       "    }\n",
       "</style>\n",
       "<table border=\"1\" class=\"dataframe\">\n",
       "  <thead>\n",
       "    <tr style=\"text-align: right;\">\n",
       "      <th></th>\n",
       "      <th>four_day_vol</th>\n",
       "      <th>four_day_forward_return</th>\n",
       "    </tr>\n",
       "  </thead>\n",
       "  <tbody>\n",
       "    <tr>\n",
       "      <th>four_day_vol</th>\n",
       "      <td>1.000000</td>\n",
       "      <td>0.038596</td>\n",
       "    </tr>\n",
       "    <tr>\n",
       "      <th>four_day_forward_return</th>\n",
       "      <td>0.038596</td>\n",
       "      <td>1.000000</td>\n",
       "    </tr>\n",
       "  </tbody>\n",
       "</table>\n",
       "</div>"
      ],
      "text/plain": [
       "                         four_day_vol  four_day_forward_return\n",
       "four_day_vol                 1.000000                 0.038596\n",
       "four_day_forward_return      0.038596                 1.000000"
      ]
     },
     "execution_count": 49,
     "metadata": {},
     "output_type": "execute_result"
    }
   ],
   "source": [
    "corr_set.corr()"
   ]
  },
  {
   "cell_type": "code",
   "execution_count": 51,
   "id": "09aee207-5f11-4fb3-b68c-969b9a380a3c",
   "metadata": {
    "tags": []
   },
   "outputs": [
    {
     "data": {
      "text/plain": [
       "<Axes: xlabel='four_day_vol', ylabel='four_day_forward_return'>"
      ]
     },
     "execution_count": 51,
     "metadata": {},
     "output_type": "execute_result"
    },
    {
     "data": {
      "image/png": "[encoded data removed]",
      "text/plain": [
       "<Figure size 1000x600 with 1 Axes>"
      ]
     },
     "metadata": {},
     "output_type": "display_data"
    }
   ],
   "source": [
    "sns.regplot(x = 'four_day_vol', y = 'four_day_forward_return', ci=None, data=corr_set)"
   ]
  },
  {
   "cell_type": "code",
   "execution_count": null,
   "id": "09b2ec1e-709e-4329-b963-de16e7044e05",
   "metadata": {},
   "outputs": [],
   "source": []
  }
 ],
 "metadata": {
  "kernelspec": {
   "display_name": "Python 3 (ipykernel)",
   "language": "python",
   "name": "python3"
  },
  "language_info": {
   "codemirror_mode": {
    "name": "ipython",
    "version": 3
   },
   "file_extension": ".py",
   "mimetype": "text/x-python",
   "name": "python",
   "nbconvert_exporter": "python",
   "pygments_lexer": "ipython3",
   "version": "3.9.18"
  }
 },
 "nbformat": 4,
 "nbformat_minor": 5
}
