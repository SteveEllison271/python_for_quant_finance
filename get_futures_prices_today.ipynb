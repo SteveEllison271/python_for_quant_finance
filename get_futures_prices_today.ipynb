{
 "cells": [
  {
   "cell_type": "code",
   "execution_count": 34,
   "id": "d7f8514b-0529-4bf4-9d7e-ec80935f3afc",
   "metadata": {
    "tags": []
   },
   "outputs": [],
   "source": [
    "import yfinance as yf\n",
    "import matplotlib.pyplot as plt\n",
    "import pandas as pd\n",
    "from datetime import datetime, timedelta"
   ]
  },
  {
   "cell_type": "code",
   "execution_count": 35,
   "id": "953c9897-e863-4e24-9333-8fead489d201",
   "metadata": {},
   "outputs": [],
   "source": [
    "# Specify the contracts and stocks\n",
    "# Modify tickers when contracts roll\n",
    "es_contract = yf.Ticker(\"ESZ23.CME\")\n",
    "us_contract = yf.Ticker(\"ZBH24.CBT\")\n",
    "cl_contract = yf.Ticker(\"CLF24.NYM\")\n",
    "ng_contract = yf.Ticker(\"NGF24.NYM\")\n",
    "gc_contract = yf.Ticker(\"GCG24.CMX\")\n",
    "si_contract = yf.Ticker(\"SIH24.CMX\")\n",
    "ec_contract = yf.Ticker(\"6EZ23.CME\")\n",
    "bp_contract = yf.Ticker(\"6BZ23.CME\")\n",
    "w_contract = yf.Ticker(\"ZWH24.CBT\")\n",
    "c_contract = yf.Ticker(\"ZCH24.CBT\")\n",
    "s_contract = yf.Ticker(\"ZSF24.CBT\")\n",
    "btc_contract = yf.Ticker(\"BTCZ23.CME\")\n",
    "nvda = yf.Ticker(\"NVDA\")"
   ]
  },
  {
   "cell_type": "code",
   "execution_count": 36,
   "id": "4b259381-153a-49e2-bcc0-e12d9442fee7",
   "metadata": {
    "tags": []
   },
   "outputs": [],
   "source": [
    "# Get today's and tomorrow's dates\n",
    "todays_date = datetime.today().strftime('%Y-%m-%d')\n",
    "tomorrows_date = (datetime.today() + timedelta(1)).strftime('%Y-%m-%d')"
   ]
  },
  {
   "cell_type": "code",
   "execution_count": 37,
   "id": "61648d8a-44e2-485a-9479-2eda819b6f7d",
   "metadata": {
    "tags": []
   },
   "outputs": [
    {
     "data": {
      "text/plain": [
       "Datetime\n",
       "2023-11-30 00:00:00-05:00    117.21875\n",
       "2023-11-30 00:30:00-05:00    117.21875\n",
       "2023-11-30 01:00:00-05:00    117.25000\n",
       "2023-11-30 01:30:00-05:00    117.28125\n",
       "2023-11-30 02:00:00-05:00    117.34375\n",
       "2023-11-30 02:30:00-05:00    117.50000\n",
       "2023-11-30 03:00:00-05:00    117.28125\n",
       "2023-11-30 03:30:00-05:00    117.25000\n",
       "2023-11-30 04:00:00-05:00    117.28125\n",
       "2023-11-30 04:30:00-05:00    117.12500\n",
       "2023-11-30 05:00:00-05:00    117.09375\n",
       "2023-11-30 05:30:00-05:00    116.96875\n",
       "2023-11-30 06:00:00-05:00    116.96875\n",
       "2023-11-30 06:30:00-05:00    117.00000\n",
       "2023-11-30 07:00:00-05:00    117.00000\n",
       "2023-11-30 07:30:00-05:00    117.06250\n",
       "2023-11-30 08:00:00-05:00    117.28125\n",
       "2023-11-30 08:30:00-05:00    116.84375\n",
       "2023-11-30 09:00:00-05:00    116.75000\n",
       "2023-11-30 09:30:00-05:00    116.56250\n",
       "2023-11-30 10:00:00-05:00    116.59375\n",
       "2023-11-30 10:30:00-05:00    116.84375\n",
       "2023-11-30 11:00:00-05:00    116.68750\n",
       "2023-11-30 11:30:00-05:00    116.75000\n",
       "2023-11-30 12:00:00-05:00    116.65625\n",
       "2023-11-30 12:30:00-05:00    116.46875\n",
       "2023-11-30 13:00:00-05:00    116.53125\n",
       "2023-11-30 13:30:00-05:00    116.46875\n",
       "2023-11-30 14:00:00-05:00    116.46875\n",
       "2023-11-30 14:30:00-05:00    116.46875\n",
       "2023-11-30 15:00:00-05:00    116.15625\n",
       "2023-11-30 15:30:00-05:00    116.65625\n",
       "2023-11-30 16:00:00-05:00    116.62500\n",
       "Freq: 30T, Name: US, dtype: float64"
      ]
     },
     "execution_count": 37,
     "metadata": {},
     "output_type": "execute_result"
    }
   ],
   "source": [
    "# Get contract data in 30-minute bars and create a series using just the Close values\n",
    "# Replicate for as many quotes as desired\n",
    "# S&P 500 futures\n",
    "es_intraday = es_contract.history(start=todays_date, end=tomorrows_date, interval=\"30m\")\n",
    "es_series =  es_intraday['Close']\n",
    "es_series.rename('ES', inplace=True)\n",
    "# 30-year Treasury bond futures\n",
    "us_intraday = us_contract.history(start=todays_date, end=tomorrows_date, interval=\"30m\")\n",
    "us_series =  us_intraday['Close']\n",
    "us_series.rename('US', inplace=True)"
   ]
  },
  {
   "cell_type": "code",
   "execution_count": 38,
   "id": "53273a1a-6976-4e4d-9aa3-0c509b9509d9",
   "metadata": {
    "tags": []
   },
   "outputs": [],
   "source": [
    "prices = pd.concat([es_series, us_series], axis=\"columns\")"
   ]
  },
  {
   "cell_type": "code",
   "execution_count": 40,
   "id": "695e5c3b-9756-4af8-9b2a-21b3c523ab01",
   "metadata": {
    "tags": []
   },
   "outputs": [
    {
     "data": {
      "text/html": [
       "<div>\n",
       "<style scoped>\n",
       "    .dataframe tbody tr th:only-of-type {\n",
       "        vertical-align: middle;\n",
       "    }\n",
       "\n",
       "    .dataframe tbody tr th {\n",
       "        vertical-align: top;\n",
       "    }\n",
       "\n",
       "    .dataframe thead th {\n",
       "        text-align: right;\n",
       "    }\n",
       "</style>\n",
       "<table border=\"1\" class=\"dataframe\">\n",
       "  <thead>\n",
       "    <tr style=\"text-align: right;\">\n",
       "      <th></th>\n",
       "      <th>ES</th>\n",
       "      <th>US</th>\n",
       "    </tr>\n",
       "    <tr>\n",
       "      <th>Datetime</th>\n",
       "      <th></th>\n",
       "      <th></th>\n",
       "    </tr>\n",
       "  </thead>\n",
       "  <tbody>\n",
       "    <tr>\n",
       "      <th>2023-11-30 11:30:00-05:00</th>\n",
       "      <td>4549.50</td>\n",
       "      <td>116.75000</td>\n",
       "    </tr>\n",
       "    <tr>\n",
       "      <th>2023-11-30 12:00:00-05:00</th>\n",
       "      <td>4547.25</td>\n",
       "      <td>116.65625</td>\n",
       "    </tr>\n",
       "    <tr>\n",
       "      <th>2023-11-30 12:30:00-05:00</th>\n",
       "      <td>4552.50</td>\n",
       "      <td>116.46875</td>\n",
       "    </tr>\n",
       "    <tr>\n",
       "      <th>2023-11-30 13:00:00-05:00</th>\n",
       "      <td>4547.75</td>\n",
       "      <td>116.53125</td>\n",
       "    </tr>\n",
       "    <tr>\n",
       "      <th>2023-11-30 13:30:00-05:00</th>\n",
       "      <td>4550.75</td>\n",
       "      <td>116.46875</td>\n",
       "    </tr>\n",
       "    <tr>\n",
       "      <th>2023-11-30 14:00:00-05:00</th>\n",
       "      <td>4555.00</td>\n",
       "      <td>116.46875</td>\n",
       "    </tr>\n",
       "    <tr>\n",
       "      <th>2023-11-30 14:30:00-05:00</th>\n",
       "      <td>4562.50</td>\n",
       "      <td>116.46875</td>\n",
       "    </tr>\n",
       "    <tr>\n",
       "      <th>2023-11-30 15:00:00-05:00</th>\n",
       "      <td>4552.75</td>\n",
       "      <td>116.15625</td>\n",
       "    </tr>\n",
       "    <tr>\n",
       "      <th>2023-11-30 15:30:00-05:00</th>\n",
       "      <td>4574.75</td>\n",
       "      <td>116.65625</td>\n",
       "    </tr>\n",
       "    <tr>\n",
       "      <th>2023-11-30 16:00:00-05:00</th>\n",
       "      <td>4573.50</td>\n",
       "      <td>116.62500</td>\n",
       "    </tr>\n",
       "  </tbody>\n",
       "</table>\n",
       "</div>"
      ],
      "text/plain": [
       "                                ES         US\n",
       "Datetime                                     \n",
       "2023-11-30 11:30:00-05:00  4549.50  116.75000\n",
       "2023-11-30 12:00:00-05:00  4547.25  116.65625\n",
       "2023-11-30 12:30:00-05:00  4552.50  116.46875\n",
       "2023-11-30 13:00:00-05:00  4547.75  116.53125\n",
       "2023-11-30 13:30:00-05:00  4550.75  116.46875\n",
       "2023-11-30 14:00:00-05:00  4555.00  116.46875\n",
       "2023-11-30 14:30:00-05:00  4562.50  116.46875\n",
       "2023-11-30 15:00:00-05:00  4552.75  116.15625\n",
       "2023-11-30 15:30:00-05:00  4574.75  116.65625\n",
       "2023-11-30 16:00:00-05:00  4573.50  116.62500"
      ]
     },
     "execution_count": 40,
     "metadata": {},
     "output_type": "execute_result"
    }
   ],
   "source": [
    "prices.tail(10)"
   ]
  },
  {
   "cell_type": "code",
   "execution_count": null,
   "id": "b63b28fe-3554-4465-bb8e-2677da9ebba0",
   "metadata": {},
   "outputs": [],
   "source": []
  }
 ],
 "metadata": {
  "kernelspec": {
   "display_name": "Python 3 (ipykernel)",
   "language": "python",
   "name": "python3"
  },
  "language_info": {
   "codemirror_mode": {
    "name": "ipython",
    "version": 3
   },
   "file_extension": ".py",
   "mimetype": "text/x-python",
   "name": "python",
   "nbconvert_exporter": "python",
   "pygments_lexer": "ipython3",
   "version": "3.9.18"
  }
 },
 "nbformat": 4,
 "nbformat_minor": 5
}
