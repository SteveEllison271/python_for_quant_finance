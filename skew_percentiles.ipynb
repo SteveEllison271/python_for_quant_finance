{
 "cells": [
  {
   "cell_type": "code",
   "execution_count": 1,
   "id": "d7f8514b-0529-4bf4-9d7e-ec80935f3afc",
   "metadata": {
    "tags": []
   },
   "outputs": [],
   "source": [
    "import yfinance as yf\n",
    "import matplotlib.pyplot as plt\n",
    "import pandas as pd\n",
    "from datetime import datetime, timedelta"
   ]
  },
  {
   "cell_type": "markdown",
   "id": "5d54e9e8-9efa-46a6-ba3e-fbbd09097c78",
   "metadata": {},
   "source": [
    "## Define constants to identify assets"
   ]
  },
  {
   "cell_type": "code",
   "execution_count": 2,
   "id": "1de77112-9ed1-4a64-b927-b0a1d11e1083",
   "metadata": {
    "tags": []
   },
   "outputs": [],
   "source": [
    "# Symbols used in Yahoo Finance\n",
    "SKEW = '^SKEW'"
   ]
  },
  {
   "cell_type": "markdown",
   "id": "b598c1c1-59e9-4f6a-9091-38c605c7c4a4",
   "metadata": {},
   "source": [
    "## Get prices"
   ]
  },
  {
   "cell_type": "code",
   "execution_count": 3,
   "id": "2a9cc961-56f2-41f1-a323-3ec40333145c",
   "metadata": {
    "tags": []
   },
   "outputs": [],
   "source": [
    "## 2 years ago\n",
    "start_date = (datetime.today() + timedelta(-731)).strftime('%Y-%m-%d')"
   ]
  },
  {
   "cell_type": "code",
   "execution_count": 4,
   "id": "23b8010f-cb8c-45f9-9c3f-63312988df38",
   "metadata": {
    "tags": []
   },
   "outputs": [],
   "source": [
    "end_date = (datetime.today() + timedelta(1)).strftime('%Y-%m-%d')"
   ]
  },
  {
   "cell_type": "code",
   "execution_count": 5,
   "id": "e220066e-a8da-47eb-a2d5-20bc441dd512",
   "metadata": {
    "tags": []
   },
   "outputs": [],
   "source": [
    "ticker = yf.Ticker(SKEW)"
   ]
  },
  {
   "cell_type": "code",
   "execution_count": 6,
   "id": "1f6c812d-f049-4b26-aa17-f43ccd485774",
   "metadata": {
    "tags": []
   },
   "outputs": [
    {
     "name": "stderr",
     "output_type": "stream",
     "text": [
      "D:\\Users\\steve\\anaconda3\\envs\\my_quant_lab3\\lib\\site-packages\\yfinance\\utils.py:775: FutureWarning: The 'unit' keyword in TimedeltaIndex construction is deprecated and will be removed in a future version. Use pd.to_timedelta instead.\n",
      "  df.index += _pd.TimedeltaIndex(dst_error_hours, 'h')\n"
     ]
    }
   ],
   "source": [
    "daily_ohlc = ticker.history(start=start_date, end=end_date, interval=\"1d\")"
   ]
  },
  {
   "cell_type": "code",
   "execution_count": 7,
   "id": "fd452f24-c85b-4a6e-be7a-539097cd40ae",
   "metadata": {
    "tags": []
   },
   "outputs": [
    {
     "data": {
      "text/html": [
       "<div>\n",
       "<style scoped>\n",
       "    .dataframe tbody tr th:only-of-type {\n",
       "        vertical-align: middle;\n",
       "    }\n",
       "\n",
       "    .dataframe tbody tr th {\n",
       "        vertical-align: top;\n",
       "    }\n",
       "\n",
       "    .dataframe thead th {\n",
       "        text-align: right;\n",
       "    }\n",
       "</style>\n",
       "<table border=\"1\" class=\"dataframe\">\n",
       "  <thead>\n",
       "    <tr style=\"text-align: right;\">\n",
       "      <th></th>\n",
       "      <th>Open</th>\n",
       "      <th>High</th>\n",
       "      <th>Low</th>\n",
       "      <th>Close</th>\n",
       "      <th>Volume</th>\n",
       "      <th>Dividends</th>\n",
       "      <th>Stock Splits</th>\n",
       "    </tr>\n",
       "    <tr>\n",
       "      <th>Date</th>\n",
       "      <th></th>\n",
       "      <th></th>\n",
       "      <th></th>\n",
       "      <th></th>\n",
       "      <th></th>\n",
       "      <th></th>\n",
       "      <th></th>\n",
       "    </tr>\n",
       "  </thead>\n",
       "  <tbody>\n",
       "    <tr>\n",
       "      <th>2022-02-14 00:00:00-05:00</th>\n",
       "      <td>128.119995</td>\n",
       "      <td>128.119995</td>\n",
       "      <td>128.119995</td>\n",
       "      <td>128.119995</td>\n",
       "      <td>0</td>\n",
       "      <td>0.0</td>\n",
       "      <td>0.0</td>\n",
       "    </tr>\n",
       "    <tr>\n",
       "      <th>2022-02-15 00:00:00-05:00</th>\n",
       "      <td>129.759995</td>\n",
       "      <td>129.759995</td>\n",
       "      <td>129.759995</td>\n",
       "      <td>129.759995</td>\n",
       "      <td>0</td>\n",
       "      <td>0.0</td>\n",
       "      <td>0.0</td>\n",
       "    </tr>\n",
       "    <tr>\n",
       "      <th>2022-02-16 00:00:00-05:00</th>\n",
       "      <td>132.750000</td>\n",
       "      <td>132.750000</td>\n",
       "      <td>132.750000</td>\n",
       "      <td>132.750000</td>\n",
       "      <td>0</td>\n",
       "      <td>0.0</td>\n",
       "      <td>0.0</td>\n",
       "    </tr>\n",
       "    <tr>\n",
       "      <th>2022-02-17 00:00:00-05:00</th>\n",
       "      <td>131.309998</td>\n",
       "      <td>131.309998</td>\n",
       "      <td>131.309998</td>\n",
       "      <td>131.309998</td>\n",
       "      <td>0</td>\n",
       "      <td>0.0</td>\n",
       "      <td>0.0</td>\n",
       "    </tr>\n",
       "    <tr>\n",
       "      <th>2022-02-18 00:00:00-05:00</th>\n",
       "      <td>128.360001</td>\n",
       "      <td>128.360001</td>\n",
       "      <td>128.360001</td>\n",
       "      <td>128.360001</td>\n",
       "      <td>0</td>\n",
       "      <td>0.0</td>\n",
       "      <td>0.0</td>\n",
       "    </tr>\n",
       "    <tr>\n",
       "      <th>...</th>\n",
       "      <td>...</td>\n",
       "      <td>...</td>\n",
       "      <td>...</td>\n",
       "      <td>...</td>\n",
       "      <td>...</td>\n",
       "      <td>...</td>\n",
       "      <td>...</td>\n",
       "    </tr>\n",
       "    <tr>\n",
       "      <th>2024-02-08 00:00:00-05:00</th>\n",
       "      <td>150.360001</td>\n",
       "      <td>150.360001</td>\n",
       "      <td>150.360001</td>\n",
       "      <td>150.360001</td>\n",
       "      <td>0</td>\n",
       "      <td>0.0</td>\n",
       "      <td>0.0</td>\n",
       "    </tr>\n",
       "    <tr>\n",
       "      <th>2024-02-09 00:00:00-05:00</th>\n",
       "      <td>156.619995</td>\n",
       "      <td>156.619995</td>\n",
       "      <td>156.619995</td>\n",
       "      <td>156.619995</td>\n",
       "      <td>0</td>\n",
       "      <td>0.0</td>\n",
       "      <td>0.0</td>\n",
       "    </tr>\n",
       "    <tr>\n",
       "      <th>2024-02-12 00:00:00-05:00</th>\n",
       "      <td>152.800003</td>\n",
       "      <td>152.800003</td>\n",
       "      <td>152.800003</td>\n",
       "      <td>152.800003</td>\n",
       "      <td>0</td>\n",
       "      <td>0.0</td>\n",
       "      <td>0.0</td>\n",
       "    </tr>\n",
       "    <tr>\n",
       "      <th>2024-02-13 00:00:00-05:00</th>\n",
       "      <td>170.520004</td>\n",
       "      <td>170.520004</td>\n",
       "      <td>170.520004</td>\n",
       "      <td>170.520004</td>\n",
       "      <td>0</td>\n",
       "      <td>0.0</td>\n",
       "      <td>0.0</td>\n",
       "    </tr>\n",
       "    <tr>\n",
       "      <th>2024-02-14 00:00:00-05:00</th>\n",
       "      <td>160.399994</td>\n",
       "      <td>160.399994</td>\n",
       "      <td>160.399994</td>\n",
       "      <td>160.399994</td>\n",
       "      <td>0</td>\n",
       "      <td>0.0</td>\n",
       "      <td>0.0</td>\n",
       "    </tr>\n",
       "  </tbody>\n",
       "</table>\n",
       "<p>449 rows × 7 columns</p>\n",
       "</div>"
      ],
      "text/plain": [
       "                                 Open        High         Low       Close  \\\n",
       "Date                                                                        \n",
       "2022-02-14 00:00:00-05:00  128.119995  128.119995  128.119995  128.119995   \n",
       "2022-02-15 00:00:00-05:00  129.759995  129.759995  129.759995  129.759995   \n",
       "2022-02-16 00:00:00-05:00  132.750000  132.750000  132.750000  132.750000   \n",
       "2022-02-17 00:00:00-05:00  131.309998  131.309998  131.309998  131.309998   \n",
       "2022-02-18 00:00:00-05:00  128.360001  128.360001  128.360001  128.360001   \n",
       "...                               ...         ...         ...         ...   \n",
       "2024-02-08 00:00:00-05:00  150.360001  150.360001  150.360001  150.360001   \n",
       "2024-02-09 00:00:00-05:00  156.619995  156.619995  156.619995  156.619995   \n",
       "2024-02-12 00:00:00-05:00  152.800003  152.800003  152.800003  152.800003   \n",
       "2024-02-13 00:00:00-05:00  170.520004  170.520004  170.520004  170.520004   \n",
       "2024-02-14 00:00:00-05:00  160.399994  160.399994  160.399994  160.399994   \n",
       "\n",
       "                           Volume  Dividends  Stock Splits  \n",
       "Date                                                        \n",
       "2022-02-14 00:00:00-05:00       0        0.0           0.0  \n",
       "2022-02-15 00:00:00-05:00       0        0.0           0.0  \n",
       "2022-02-16 00:00:00-05:00       0        0.0           0.0  \n",
       "2022-02-17 00:00:00-05:00       0        0.0           0.0  \n",
       "2022-02-18 00:00:00-05:00       0        0.0           0.0  \n",
       "...                           ...        ...           ...  \n",
       "2024-02-08 00:00:00-05:00       0        0.0           0.0  \n",
       "2024-02-09 00:00:00-05:00       0        0.0           0.0  \n",
       "2024-02-12 00:00:00-05:00       0        0.0           0.0  \n",
       "2024-02-13 00:00:00-05:00       0        0.0           0.0  \n",
       "2024-02-14 00:00:00-05:00       0        0.0           0.0  \n",
       "\n",
       "[449 rows x 7 columns]"
      ]
     },
     "execution_count": 7,
     "metadata": {},
     "output_type": "execute_result"
    }
   ],
   "source": [
    "daily_ohlc"
   ]
  },
  {
   "cell_type": "markdown",
   "id": "e607ab55-e370-4409-942e-227417627393",
   "metadata": {},
   "source": [
    "## Calculate rolling percentile with one-year lookback"
   ]
  },
  {
   "cell_type": "code",
   "execution_count": 8,
   "id": "b0dda015-ac2b-4aa1-a86e-666a4d719a5f",
   "metadata": {
    "tags": []
   },
   "outputs": [],
   "source": [
    "daily_ohlc['skew_rank'] = daily_ohlc['Close'].rolling(252).rank()\n",
    "daily_ohlc['skew_percentile'] = daily_ohlc['skew_rank'] / 252"
   ]
  },
  {
   "cell_type": "code",
   "execution_count": 9,
   "id": "e0f126ef-94ff-49ca-bee7-f59a795dbdde",
   "metadata": {
    "tags": []
   },
   "outputs": [],
   "source": [
    "# Drop the initial lookback period from the result set\n",
    "skew_history = daily_ohlc[['Close', 'skew_rank', 'skew_percentile']].dropna()"
   ]
  },
  {
   "cell_type": "code",
   "execution_count": 10,
   "id": "3cefb14f-07a3-46c5-a867-3794aa2443e6",
   "metadata": {
    "tags": []
   },
   "outputs": [
    {
     "data": {
      "text/html": [
       "<div>\n",
       "<style scoped>\n",
       "    .dataframe tbody tr th:only-of-type {\n",
       "        vertical-align: middle;\n",
       "    }\n",
       "\n",
       "    .dataframe tbody tr th {\n",
       "        vertical-align: top;\n",
       "    }\n",
       "\n",
       "    .dataframe thead th {\n",
       "        text-align: right;\n",
       "    }\n",
       "</style>\n",
       "<table border=\"1\" class=\"dataframe\">\n",
       "  <thead>\n",
       "    <tr style=\"text-align: right;\">\n",
       "      <th></th>\n",
       "      <th>Close</th>\n",
       "      <th>skew_rank</th>\n",
       "      <th>skew_percentile</th>\n",
       "    </tr>\n",
       "    <tr>\n",
       "      <th>Date</th>\n",
       "      <th></th>\n",
       "      <th></th>\n",
       "      <th></th>\n",
       "    </tr>\n",
       "  </thead>\n",
       "  <tbody>\n",
       "    <tr>\n",
       "      <th>2023-02-23 00:00:00-05:00</th>\n",
       "      <td>121.849998</td>\n",
       "      <td>140.0</td>\n",
       "      <td>0.555556</td>\n",
       "    </tr>\n",
       "    <tr>\n",
       "      <th>2023-02-24 00:00:00-05:00</th>\n",
       "      <td>121.220001</td>\n",
       "      <td>123.0</td>\n",
       "      <td>0.488095</td>\n",
       "    </tr>\n",
       "    <tr>\n",
       "      <th>2023-02-27 00:00:00-05:00</th>\n",
       "      <td>120.540001</td>\n",
       "      <td>108.0</td>\n",
       "      <td>0.428571</td>\n",
       "    </tr>\n",
       "    <tr>\n",
       "      <th>2023-02-28 00:00:00-05:00</th>\n",
       "      <td>120.010002</td>\n",
       "      <td>95.0</td>\n",
       "      <td>0.376984</td>\n",
       "    </tr>\n",
       "    <tr>\n",
       "      <th>2023-03-01 00:00:00-05:00</th>\n",
       "      <td>118.889999</td>\n",
       "      <td>71.0</td>\n",
       "      <td>0.281746</td>\n",
       "    </tr>\n",
       "    <tr>\n",
       "      <th>...</th>\n",
       "      <td>...</td>\n",
       "      <td>...</td>\n",
       "      <td>...</td>\n",
       "    </tr>\n",
       "    <tr>\n",
       "      <th>2024-02-08 00:00:00-05:00</th>\n",
       "      <td>150.360001</td>\n",
       "      <td>236.0</td>\n",
       "      <td>0.936508</td>\n",
       "    </tr>\n",
       "    <tr>\n",
       "      <th>2024-02-09 00:00:00-05:00</th>\n",
       "      <td>156.619995</td>\n",
       "      <td>248.0</td>\n",
       "      <td>0.984127</td>\n",
       "    </tr>\n",
       "    <tr>\n",
       "      <th>2024-02-12 00:00:00-05:00</th>\n",
       "      <td>152.800003</td>\n",
       "      <td>241.0</td>\n",
       "      <td>0.956349</td>\n",
       "    </tr>\n",
       "    <tr>\n",
       "      <th>2024-02-13 00:00:00-05:00</th>\n",
       "      <td>170.520004</td>\n",
       "      <td>252.0</td>\n",
       "      <td>1.000000</td>\n",
       "    </tr>\n",
       "    <tr>\n",
       "      <th>2024-02-14 00:00:00-05:00</th>\n",
       "      <td>160.399994</td>\n",
       "      <td>250.0</td>\n",
       "      <td>0.992063</td>\n",
       "    </tr>\n",
       "  </tbody>\n",
       "</table>\n",
       "<p>198 rows × 3 columns</p>\n",
       "</div>"
      ],
      "text/plain": [
       "                                Close  skew_rank  skew_percentile\n",
       "Date                                                             \n",
       "2023-02-23 00:00:00-05:00  121.849998      140.0         0.555556\n",
       "2023-02-24 00:00:00-05:00  121.220001      123.0         0.488095\n",
       "2023-02-27 00:00:00-05:00  120.540001      108.0         0.428571\n",
       "2023-02-28 00:00:00-05:00  120.010002       95.0         0.376984\n",
       "2023-03-01 00:00:00-05:00  118.889999       71.0         0.281746\n",
       "...                               ...        ...              ...\n",
       "2024-02-08 00:00:00-05:00  150.360001      236.0         0.936508\n",
       "2024-02-09 00:00:00-05:00  156.619995      248.0         0.984127\n",
       "2024-02-12 00:00:00-05:00  152.800003      241.0         0.956349\n",
       "2024-02-13 00:00:00-05:00  170.520004      252.0         1.000000\n",
       "2024-02-14 00:00:00-05:00  160.399994      250.0         0.992063\n",
       "\n",
       "[198 rows x 3 columns]"
      ]
     },
     "execution_count": 10,
     "metadata": {},
     "output_type": "execute_result"
    }
   ],
   "source": [
    "skew_history"
   ]
  },
  {
   "cell_type": "code",
   "execution_count": 11,
   "id": "607f47ae-a420-4e56-b7de-00f9bfeb206f",
   "metadata": {
    "tags": []
   },
   "outputs": [
    {
     "data": {
      "text/plain": [
       "<Axes: xlabel='Date'>"
      ]
     },
     "execution_count": 11,
     "metadata": {},
     "output_type": "execute_result"
    },
    {
     "data": {
      "image/png": "[encoded data removed]",
      "text/plain": [
       "<Figure size 640x480 with 1 Axes>"
      ]
     },
     "metadata": {},
     "output_type": "display_data"
    }
   ],
   "source": [
    "skew_history['Close'].plot()"
   ]
  },
  {
   "cell_type": "code",
   "execution_count": 12,
   "id": "751fe874-d45f-4861-aef1-d1e2df9c510a",
   "metadata": {
    "tags": []
   },
   "outputs": [
    {
     "data": {
      "text/plain": [
       "<Axes: xlabel='Date'>"
      ]
     },
     "execution_count": 12,
     "metadata": {},
     "output_type": "execute_result"
    },
    {
     "data": {
      "image/png": "[encoded data removed]",
      "text/plain": [
       "<Figure size 640x480 with 1 Axes>"
      ]
     },
     "metadata": {},
     "output_type": "display_data"
    }
   ],
   "source": [
    "skew_history['skew_percentile'].plot()"
   ]
  },
  {
   "cell_type": "code",
   "execution_count": null,
   "id": "f2ea4f9b-8eb0-4938-9ea2-20e784620738",
   "metadata": {},
   "outputs": [],
   "source": []
  }
 ],
 "metadata": {
  "kernelspec": {
   "display_name": "Python 3 (ipykernel)",
   "language": "python",
   "name": "python3"
  },
  "language_info": {
   "codemirror_mode": {
    "name": "ipython",
    "version": 3
   },
   "file_extension": ".py",
   "mimetype": "text/x-python",
   "name": "python",
   "nbconvert_exporter": "python",
   "pygments_lexer": "ipython3",
   "version": "3.10.13"
  }
 },
 "nbformat": 4,
 "nbformat_minor": 5
}
